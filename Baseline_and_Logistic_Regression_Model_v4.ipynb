{
  "nbformat": 4,
  "nbformat_minor": 0,
  "metadata": {
    "colab": {
      "name": "Baseline and Logistic Regression Model v4.ipynb",
      "provenance": [],
      "collapsed_sections": [],
      "toc_visible": true
    },
    "kernelspec": {
      "display_name": "Python 3",
      "name": "python3"
    }
  },
  "cells": [
    {
      "cell_type": "markdown",
      "metadata": {
        "id": "kJU6bOcXCzwM"
      },
      "source": [
        "# 2.1. Libraries\n",
        "In this section, the necessary libraries are loaded and used for the rest of the document.  We were particularly interested in nltk for text preprocessing, sklearn logistic regression, and keras for neural nets."
      ]
    },
    {
      "cell_type": "code",
      "metadata": {
        "colab": {
          "base_uri": "https://localhost:8080/"
        },
        "id": "_Zk10wvIC09P",
        "outputId": "846ebc9b-4130-4b04-a62f-106ec7fa7a63"
      },
      "source": [
        "# general libraries\n",
        "import json\n",
        "import pandas as pd\n",
        "import numpy as np\n",
        "import matplotlib.pyplot as plt\n",
        "import seaborn as sns\n",
        "import string\n",
        "from collections import Counter\n",
        "\n",
        "# nltk for text preprocessing\n",
        "import nltk\n",
        "from nltk import pos_tag\n",
        "from nltk.tokenize import sent_tokenize, word_tokenize\n",
        "from nltk.corpus import stopwords\n",
        "from nltk.corpus import wordnet as wn\n",
        "from nltk.stem import WordNetLemmatizer\n",
        "from collections import defaultdict\n",
        "\n",
        "from nltk.sentiment import SentimentAnalyzer\n",
        "from nltk.sentiment.util import *\n",
        "nltk.download('wordnet')\n",
        "nltk.download('punkt')\n",
        "nltk.download('stopwords')\n",
        "nltk.download('opinion_lexicon')\n",
        "nltk.download('averaged_perceptron_tagger')\n",
        "\n",
        "# sklearn libraries\n",
        "from sklearn.linear_model import LogisticRegression \n",
        "from sklearn import metrics\n",
        "from sklearn.model_selection import train_test_split\n",
        "from sklearn.metrics import confusion_matrix\n",
        "from sklearn.metrics import roc_auc_score\n",
        "\n",
        "from sklearn.cluster import KMeans\n",
        "from sklearn.feature_extraction.text import *\n",
        "from sklearn.preprocessing import normalize\n",
        "from sklearn.decomposition import PCA\n",
        "\n",
        "from sklearn.preprocessing import MinMaxScaler\n",
        "from sklearn.utils import resample\n"
      ],
      "execution_count": 1,
      "outputs": [
        {
          "output_type": "stream",
          "text": [
            "/usr/local/lib/python3.6/dist-packages/nltk/twitter/__init__.py:20: UserWarning: The twython library has not been installed. Some functionality from the twitter package will not be available.\n",
            "  warnings.warn(\"The twython library has not been installed. \"\n"
          ],
          "name": "stderr"
        },
        {
          "output_type": "stream",
          "text": [
            "[nltk_data] Downloading package wordnet to /root/nltk_data...\n",
            "[nltk_data]   Unzipping corpora/wordnet.zip.\n",
            "[nltk_data] Downloading package punkt to /root/nltk_data...\n",
            "[nltk_data]   Unzipping tokenizers/punkt.zip.\n",
            "[nltk_data] Downloading package stopwords to /root/nltk_data...\n",
            "[nltk_data]   Unzipping corpora/stopwords.zip.\n",
            "[nltk_data] Downloading package opinion_lexicon to /root/nltk_data...\n",
            "[nltk_data]   Unzipping corpora/opinion_lexicon.zip.\n",
            "[nltk_data] Downloading package averaged_perceptron_tagger to\n",
            "[nltk_data]     /root/nltk_data...\n",
            "[nltk_data]   Unzipping taggers/averaged_perceptron_tagger.zip.\n"
          ],
          "name": "stdout"
        }
      ]
    },
    {
      "cell_type": "markdown",
      "metadata": {
        "id": "u3IsVgJZg5a0"
      },
      "source": [
        "# 3.1 Functions"
      ]
    },
    {
      "cell_type": "markdown",
      "metadata": {
        "id": "PafvXoEDBjTW"
      },
      "source": [
        "# 3.1.1 Functions - Data Preprocessing\n",
        "In this section several functions are built to process data and train models.  These functions are meant to keep the rest of the document clean and concise.\n"
      ]
    },
    {
      "cell_type": "code",
      "metadata": {
        "id": "sNDnHAfrCQhV"
      },
      "source": [
        "# Function that can performs preprocessing and tokenizes text\n",
        "def clean_text(text_array, extra_stop_words=False):\n",
        "\n",
        "  # Initialize the methods\n",
        "  tokenizer = nltk.tokenize.TreebankWordTokenizer()\n",
        "  stop_words = stopwords.words('english')\n",
        "  if extra_stop_words != False:\n",
        "    stop_words.extend(extra_stop_words)\n",
        "  lm = WordNetLemmatizer()\n",
        "\n",
        "  # Tokenize the sentences into words\n",
        "  words = [tokenizer.tokenize(i) for i in text_array]\n",
        "\n",
        "  # Lowercase words\n",
        "  words_lower = [[] for _ in range(len(text_array))]\n",
        "  for i, observations in enumerate(words):\n",
        "      for w in observations:\n",
        "          words_lower[i].append(w.lower())\n",
        "\n",
        "  # Remove punctuation\n",
        "  words_alpha = [[] for _ in range(len(text_array))]\n",
        "  for i, observations in enumerate(words_lower):\n",
        "      for w in observations:\n",
        "          if w.isalpha():\n",
        "              words_alpha[i].append(w)\n",
        "\n",
        "  # Remove common English words\n",
        "  words_filtered = [[] for _ in range(len(text_array))]\n",
        "  for i, observations in enumerate(words_alpha):\n",
        "      for w in observations:\n",
        "          if w not in stop_words:\n",
        "              words_filtered[i].append(w)\n",
        "\n",
        "  # Lemmatize words\n",
        "  tag_map = defaultdict(lambda : wn.NOUN)\n",
        "  tag_map['J'] = wn.ADJ\n",
        "  tag_map['V'] = wn.VERB\n",
        "  tag_map['R'] = wn.ADV\n",
        "\n",
        "  words_lemm = [[] for _ in range(len(text_array))]\n",
        "  for i, observations in enumerate(words_filtered):\n",
        "      for w, tag in pos_tag(observations):\n",
        "        words_lemm[i].append(lm.lemmatize(w, tag_map[tag[0]]))\n",
        "  \n",
        "  return words_lemm\n",
        "\n",
        "# Function that counts the number of positive or negative labels per word\n",
        "def label_per_word(X_train_text, y_train, feature, label, label_value):\n",
        "  '''\n",
        "  X_train_text = dataframe of features\n",
        "  y_train = dataframe of labels\n",
        "  feature = string of a particular in X_train_text\n",
        "  label = string of particular label in y_train\n",
        "  label_value = int representing the class\n",
        "  '''\n",
        "  # Tokenize, clean text, and aggregate the words\n",
        "  words = clean_text(X_train_text[feature])\n",
        "\n",
        "  # Create a dataframe: one row per observation\n",
        "  words_df = pd.DataFrame({'words': words})\n",
        "\n",
        "  # Add labels to the data frame\n",
        "  words_label_df = pd.concat([words_df, y_train], axis=1, sort=True)\n",
        "\n",
        "  # Get the words that had received or not received pizza\n",
        "  temp_df = words_label_df[words_label_df[label] == label_value]\n",
        "\n",
        "  # Count the words that were in observations that recieved pizza\n",
        "  results = Counter()\n",
        "  temp_df['words'].apply(results.update)\n",
        "  words_per_label = pd.DataFrame.from_dict(results, orient='index', columns=['count']).sort_values(by='count', ascending=False)\n",
        "  \n",
        "  # Return a dataframe of words per post and words per label\n",
        "  return words_df, words_per_label\n",
        "\n",
        "# Function that downsamples majority class to fix imbalance\n",
        "def down_sample_majority(df, label, majority_value):\n",
        "  df_majority = df[df[label]==majority_value]\n",
        "  df_minority = df[df[label]==1-majority_value]\n",
        "\n",
        "  df_majority_downsampled = resample(df_majority, \n",
        "                                    replace=False, \n",
        "                                    n_samples=len(df_minority),\n",
        "                                    random_state=1)\n",
        "\n",
        "  df_downsampled = pd.concat([df_majority_downsampled, df_minority]).reset_index().drop(['index'], axis=1)\n",
        "\n",
        "  shuffle = np.random.permutation(np.arange(df_downsampled.shape[0]))\n",
        "  df_downsampled = df_downsampled.iloc[shuffle,].reset_index().drop(['index'], axis=1)\n",
        "\n",
        "  return df_downsampled\n",
        "\n",
        "def get_top_features_cluster(tf_idf_array, prediction, n_feats):\n",
        "    labels = np.unique(prediction)\n",
        "    #dfs = pd.DataFrame(columns = ['cluster', 'features', 'score'])\n",
        "    dfs = []\n",
        "    for label in labels:\n",
        "        id_temp = np.where(prediction==label) # indices for each cluster\n",
        "        x_means = np.mean(tf_idf_array[id_temp], axis = 0) # returns average score across cluster\n",
        "        sorted_means = np.argsort(x_means)[::-1][:n_feats] # indices with top 20 scores\n",
        "        features = tfidf.get_feature_names()\n",
        "        best_features = [(label, features[i], x_means[i]) for i in sorted_means]\n",
        "        df = pd.DataFrame(best_features, columns = ['cluster', 'features', 'score'])\n",
        "        #dfs = pd.concat([dfs, df])\n",
        "        dfs.append(df)\n",
        " \n",
        "    return dfs\n"
      ],
      "execution_count": null,
      "outputs": []
    },
    {
      "cell_type": "markdown",
      "metadata": {
        "id": "W-tfis5mhGid"
      },
      "source": [
        "# 3.1.2. Functions - Logistic Regression "
      ]
    },
    {
      "cell_type": "code",
      "metadata": {
        "id": "04FenNpihHme"
      },
      "source": [
        "# Build logistic model and search for optimal inverse regularization term\n",
        "def log_reg(X_train, y_train, X_dev, y_dev, C_values):\n",
        "  '''\n",
        "  X_train, X_dev = array of features\n",
        "  y_train, y_dev = array of labels\n",
        "  C_values = list of inverse regularization term\n",
        "  '''\n",
        "  rmse = []\n",
        "  accuracy = []\n",
        "  roc = []\n",
        "  for c in C_values:\n",
        "      logit_pizza = LogisticRegression(penalty='l2', C=c, max_iter=1000, solver='lbfgs').fit(X_train, y_train)\n",
        "\n",
        "      # RMSE of fit\n",
        "      y_fitted = logit_pizza.predict(X_train)\n",
        "      rmse.append(round(metrics.mean_squared_error(y_train, y_fitted),3))\n",
        "      \n",
        "      # Predict and accuracy\n",
        "      y_predict = logit_pizza.predict(X_dev)\n",
        "      accuracy.append(round(metrics.accuracy_score(y_dev, y_predict),3))\n",
        "\n",
        "      # Probability and ROC_AUC_score\n",
        "      prob = logit_pizza.predict_proba(X_dev)[:,1]\n",
        "      roc.append(round(roc_auc_score(y_dev, prob),3))\n",
        "\n",
        "  # Returns a list of metrics for different C_values\n",
        "  return rmse, accuracy, roc\n",
        "\n",
        "# Build logistic model for ensemble\n",
        "def log_reg_to_ensemble(train, y_train, dev, C_value):\n",
        "  '''\n",
        "  Takes in raw values, perform feature selection as described in this notebook, and produces predictions on the dev data\n",
        "\n",
        "  Input: raw train (dataframe), labels (dataframe), and specified C value (int)\n",
        "  Output: predictions of class (0 or 1)\n",
        "  '''\n",
        "\n",
        "  # Split into num and text\n",
        "  train_text = train[['request_id', \n",
        "                      'request_text_edit_aware', \n",
        "                      'request_title', \n",
        "                      'requester_subreddits_at_request', \n",
        "                      'requester_username', \n",
        "                      'unix_timestamp_of_request', \n",
        "                      'unix_timestamp_of_request_utc']]\n",
        "\n",
        "  dev_text = dev[['request_id', \n",
        "                      'request_text_edit_aware', \n",
        "                      'request_title', \n",
        "                      'requester_subreddits_at_request', \n",
        "                      'requester_username', \n",
        "                      'unix_timestamp_of_request', \n",
        "                      'unix_timestamp_of_request_utc']]\n",
        "\n",
        "  train_num = train[['requester_account_age_in_days_at_request',\n",
        "                    'requester_days_since_first_post_on_raop_at_request', \n",
        "                    'requester_number_of_comments_at_request',\n",
        "                    'requester_number_of_comments_in_raop_at_request', \n",
        "                    'requester_number_of_posts_at_request',\n",
        "                    'requester_number_of_posts_on_raop_at_request', \n",
        "                    'requester_number_of_subreddits_at_request', \n",
        "                    'requester_upvotes_minus_downvotes_at_request', \n",
        "                    'requester_upvotes_plus_downvotes_at_request']]\n",
        "\n",
        "  dev_num = dev[['requester_account_age_in_days_at_request',\n",
        "                    'requester_days_since_first_post_on_raop_at_request', \n",
        "                    'requester_number_of_comments_at_request',\n",
        "                    'requester_number_of_comments_in_raop_at_request', \n",
        "                    'requester_number_of_posts_at_request',\n",
        "                    'requester_number_of_posts_on_raop_at_request', \n",
        "                    'requester_number_of_subreddits_at_request', \n",
        "                    'requester_upvotes_minus_downvotes_at_request', \n",
        "                    'requester_upvotes_plus_downvotes_at_request']]\n",
        "\n",
        "  # Reset the indexes \n",
        "  train_num = train_num.reset_index().drop('index', axis=1)\n",
        "  dev_num = dev_num.reset_index().drop('index', axis=1)\n",
        "\n",
        "  train_text = train_text.reset_index().drop('index', axis=1)\n",
        "  dev_text = dev_text.reset_index().drop('index', axis=1)\n",
        "\n",
        "  y_train = pd.Series(pd.DataFrame(y_train).reset_index().drop('index', axis=1).iloc[:,0])\n",
        "\n",
        "  # Coefficients\n",
        "  logit_pizza = LogisticRegression(penalty='l2', C=C_value, max_iter=1000, solver='lbfgs').fit(train_num, y_train)\n",
        "  y_predict = logit_pizza.predict(dev_num)\n",
        "\n",
        "  coef_df = pd.DataFrame({'features': train_num.columns, 'coef': logit_pizza.coef_[0]})\n",
        "  coef_df = coef_df.sort_values(by='coef', ascending=False).reset_index()\n",
        "  \n",
        "  # Reduce numeric features\n",
        "  coef_index = list(coef_df['index'][0:4])\n",
        "\n",
        "  train_num_red = train_num.iloc[:, coef_index]\n",
        "  dev_num_red = dev_num.iloc[:, coef_index]\n",
        "\n",
        "  # Length of posts\n",
        "  train_post_length = np.array([len(i) for i in clean_train_text]).reshape(-1,1)\n",
        "  dev_post_length = np.array([len(i) for i in clean_dev_text]).reshape(-1,1)\n",
        "\n",
        "  # Scale the values\n",
        "  scaler = MinMaxScaler()\n",
        "  scaler.fit(train_post_length)\n",
        "  train_post_length_scaled = scaler.fit_transform(train_post_length)\n",
        "\n",
        "  scaler = MinMaxScaler()\n",
        "  scaler.fit(dev_post_length)\n",
        "  dev_post_length_scaled = scaler.fit_transform(dev_post_length)\n",
        "\n",
        "  # Add to features\n",
        "  train_textnum['length'] =  train_post_length_scaled\n",
        "  dev_textnum['length'] = dev_post_length_scaled\n",
        "\n",
        "  # Check if jpg is in the post\n",
        "  temp_list_train = []\n",
        "  for i in train_text['request_text_edit_aware']:\n",
        "    if 'jpg' in i:\n",
        "      temp_list_train.append(True)\n",
        "    else: \n",
        "      temp_list_train.append(False)\n",
        "\n",
        "  temp_list_dev = []\n",
        "  for i in dev_text['request_text_edit_aware']:\n",
        "    if 'jpg' in i:\n",
        "      temp_list_dev.append(True)\n",
        "    else: \n",
        "      temp_list_dev.append(False)\n",
        "\n",
        "  # Add the feature\n",
        "  train_textnum['jpg'] =  temp_list_train\n",
        "  dev_textnum['jpg'] = temp_list_dev \n",
        "\n",
        "  # Check for time words\n",
        "  time_list = ['day', 'tonight', 'month', 'time', 'hour', 'next', 'due']\n",
        "\n",
        "  temp_list_train = []\n",
        "  for i in clean_train_text:\n",
        "    count = 0\n",
        "    for j in time_list:\n",
        "      if j in i:\n",
        "        count += 1\n",
        "    temp_list_train.append(count)\n",
        "\n",
        "  temp_list_dev = []\n",
        "  for i in clean_dev_text:\n",
        "    count = 0\n",
        "    for j in time_list:\n",
        "      if j in i:\n",
        "        count += 1\n",
        "    temp_list_dev.append(count)\n",
        "\n",
        "  # Scale the values\n",
        "  temp_list_train = np.array(temp_list_train).reshape(-1,1)\n",
        "  temp_list_dev = np.array(temp_list_dev).reshape(-1,1)\n",
        "\n",
        "  scaler = MinMaxScaler()\n",
        "  scaler.fit(temp_list_train)\n",
        "  train_temp_scaled = scaler.fit_transform(temp_list_train)\n",
        "\n",
        "  scaler = MinMaxScaler()\n",
        "  scaler.fit(temp_list_dev)\n",
        "  dev_temp_scaled = scaler.fit_transform(temp_list_dev)\n",
        "\n",
        "  # Add the feature\n",
        "  train_textnum['time'] =  train_temp_scaled\n",
        "  dev_textnum['time'] = dev_temp_scaled\n",
        "  \n",
        "  logit_pizza = LogisticRegression(penalty='l2', C=C_value, max_iter=1000, solver='lbfgs').fit(train_textnum, y_train)\n",
        "  y_predict_dev = logit_pizza.predict(dev_textnum)\n",
        "\n",
        "  return y_predict_dev\n"
      ],
      "execution_count": null,
      "outputs": []
    },
    {
      "cell_type": "markdown",
      "metadata": {
        "id": "pW1ho0gYbF2v"
      },
      "source": [
        "# 3.1.3 Functions - Sentiment Analysis"
      ]
    },
    {
      "cell_type": "code",
      "metadata": {
        "id": "Po6XZ3HMM8G3"
      },
      "source": [
        "def opinion_classifier(tokenized_sentence):\n",
        "    \"\"\"\n",
        "    Basic example of sentiment classification using Liu and Hu opinion lexicon.\n",
        "    This function simply counts the number of positive, negative and neutral words\n",
        "    in the sentence and classifies it depending on which polarity is more represented.\n",
        "    Words that do not appear in the lexicon are considered as neutral.\n",
        "\n",
        "    :param sentence: a sentence whose polarity has to be classified.\n",
        "    :param plot: if True, plot a visual representation of the sentence polarity.\n",
        "    \"\"\"\n",
        "    from nltk.corpus import opinion_lexicon\n",
        "\n",
        "    pos_words = 0\n",
        "    neg_words = 0\n",
        "\n",
        "    y = []\n",
        "\n",
        "    for word in tokenized_sentence:\n",
        "        if word in opinion_lexicon.positive():\n",
        "            pos_words += 1\n",
        "            y.append(1)  # positive\n",
        "        elif word in opinion_lexicon.negative():\n",
        "            neg_words += 1\n",
        "            y.append(-1)  # negative\n",
        "        else:\n",
        "            y.append(0)  # neutral\n",
        "\n",
        "    if pos_words > neg_words:\n",
        "        return 1\n",
        "    elif pos_words < neg_words:\n",
        "        return -1\n",
        "    elif pos_words == neg_words:\n",
        "        return 0 "
      ],
      "execution_count": null,
      "outputs": []
    },
    {
      "cell_type": "markdown",
      "metadata": {
        "id": "bFGaDknSBBHE"
      },
      "source": [
        "# 4.1. EDA - Data Structure\n",
        "\n",
        "In this section, the train, dev, and test sets are prepared for further analysis.  "
      ]
    },
    {
      "cell_type": "markdown",
      "metadata": {
        "id": "xnXG5otQC76E"
      },
      "source": [
        "Begin by importing the dataset.  The train set consists of 4040 observations or pizza request and a total of 32 variables."
      ]
    },
    {
      "cell_type": "code",
      "metadata": {
        "colab": {
          "base_uri": "https://localhost:8080/",
          "height": 315
        },
        "id": "r5GYa7I3BrUm",
        "outputId": "491e6f84-ff01-44a9-a107-bbe104016a5d"
      },
      "source": [
        "# Load data from github\n",
        "train = pd.read_json('https://raw.githubusercontent.com/sli0111/raop/main/train.json')\n",
        "test = pd.read_json('https://raw.githubusercontent.com/sli0111/raop/main/train.json')\n",
        "\n",
        "# Preview  data#\n",
        "print(train.shape)\n",
        "train.head(3)"
      ],
      "execution_count": 7,
      "outputs": [
        {
          "output_type": "stream",
          "text": [
            "(4040, 32)\n"
          ],
          "name": "stdout"
        },
        {
          "output_type": "execute_result",
          "data": {
            "text/html": [
              "<div>\n",
              "<style scoped>\n",
              "    .dataframe tbody tr th:only-of-type {\n",
              "        vertical-align: middle;\n",
              "    }\n",
              "\n",
              "    .dataframe tbody tr th {\n",
              "        vertical-align: top;\n",
              "    }\n",
              "\n",
              "    .dataframe thead th {\n",
              "        text-align: right;\n",
              "    }\n",
              "</style>\n",
              "<table border=\"1\" class=\"dataframe\">\n",
              "  <thead>\n",
              "    <tr style=\"text-align: right;\">\n",
              "      <th></th>\n",
              "      <th>giver_username_if_known</th>\n",
              "      <th>number_of_downvotes_of_request_at_retrieval</th>\n",
              "      <th>number_of_upvotes_of_request_at_retrieval</th>\n",
              "      <th>post_was_edited</th>\n",
              "      <th>request_id</th>\n",
              "      <th>request_number_of_comments_at_retrieval</th>\n",
              "      <th>request_text</th>\n",
              "      <th>request_text_edit_aware</th>\n",
              "      <th>request_title</th>\n",
              "      <th>requester_account_age_in_days_at_request</th>\n",
              "      <th>requester_account_age_in_days_at_retrieval</th>\n",
              "      <th>requester_days_since_first_post_on_raop_at_request</th>\n",
              "      <th>requester_days_since_first_post_on_raop_at_retrieval</th>\n",
              "      <th>requester_number_of_comments_at_request</th>\n",
              "      <th>requester_number_of_comments_at_retrieval</th>\n",
              "      <th>requester_number_of_comments_in_raop_at_request</th>\n",
              "      <th>requester_number_of_comments_in_raop_at_retrieval</th>\n",
              "      <th>requester_number_of_posts_at_request</th>\n",
              "      <th>requester_number_of_posts_at_retrieval</th>\n",
              "      <th>requester_number_of_posts_on_raop_at_request</th>\n",
              "      <th>requester_number_of_posts_on_raop_at_retrieval</th>\n",
              "      <th>requester_number_of_subreddits_at_request</th>\n",
              "      <th>requester_received_pizza</th>\n",
              "      <th>requester_subreddits_at_request</th>\n",
              "      <th>requester_upvotes_minus_downvotes_at_request</th>\n",
              "      <th>requester_upvotes_minus_downvotes_at_retrieval</th>\n",
              "      <th>requester_upvotes_plus_downvotes_at_request</th>\n",
              "      <th>requester_upvotes_plus_downvotes_at_retrieval</th>\n",
              "      <th>requester_user_flair</th>\n",
              "      <th>requester_username</th>\n",
              "      <th>unix_timestamp_of_request</th>\n",
              "      <th>unix_timestamp_of_request_utc</th>\n",
              "    </tr>\n",
              "  </thead>\n",
              "  <tbody>\n",
              "    <tr>\n",
              "      <th>0</th>\n",
              "      <td>N/A</td>\n",
              "      <td>0</td>\n",
              "      <td>1</td>\n",
              "      <td>0</td>\n",
              "      <td>t3_l25d7</td>\n",
              "      <td>0</td>\n",
              "      <td>Hi I am in need of food for my 4 children we a...</td>\n",
              "      <td>Hi I am in need of food for my 4 children we a...</td>\n",
              "      <td>Request Colorado Springs Help Us Please</td>\n",
              "      <td>0.0000</td>\n",
              "      <td>792.420405</td>\n",
              "      <td>0.0</td>\n",
              "      <td>792.420405</td>\n",
              "      <td>0</td>\n",
              "      <td>0</td>\n",
              "      <td>0</td>\n",
              "      <td>0</td>\n",
              "      <td>0</td>\n",
              "      <td>1</td>\n",
              "      <td>0</td>\n",
              "      <td>1</td>\n",
              "      <td>0</td>\n",
              "      <td>False</td>\n",
              "      <td>[]</td>\n",
              "      <td>0</td>\n",
              "      <td>1</td>\n",
              "      <td>0</td>\n",
              "      <td>1</td>\n",
              "      <td>None</td>\n",
              "      <td>nickylvst</td>\n",
              "      <td>1317852607</td>\n",
              "      <td>1317849007</td>\n",
              "    </tr>\n",
              "    <tr>\n",
              "      <th>1</th>\n",
              "      <td>N/A</td>\n",
              "      <td>2</td>\n",
              "      <td>5</td>\n",
              "      <td>0</td>\n",
              "      <td>t3_rcb83</td>\n",
              "      <td>0</td>\n",
              "      <td>I spent the last money I had on gas today. Im ...</td>\n",
              "      <td>I spent the last money I had on gas today. Im ...</td>\n",
              "      <td>[Request] California, No cash and I could use ...</td>\n",
              "      <td>501.1111</td>\n",
              "      <td>1122.279838</td>\n",
              "      <td>0.0</td>\n",
              "      <td>621.127072</td>\n",
              "      <td>0</td>\n",
              "      <td>1000</td>\n",
              "      <td>0</td>\n",
              "      <td>0</td>\n",
              "      <td>15</td>\n",
              "      <td>26</td>\n",
              "      <td>0</td>\n",
              "      <td>2</td>\n",
              "      <td>12</td>\n",
              "      <td>False</td>\n",
              "      <td>[AskReddit, Eve, IAmA, MontereyBay, RandomKind...</td>\n",
              "      <td>34</td>\n",
              "      <td>4258</td>\n",
              "      <td>116</td>\n",
              "      <td>11168</td>\n",
              "      <td>None</td>\n",
              "      <td>fohacidal</td>\n",
              "      <td>1332652424</td>\n",
              "      <td>1332648824</td>\n",
              "    </tr>\n",
              "    <tr>\n",
              "      <th>2</th>\n",
              "      <td>N/A</td>\n",
              "      <td>0</td>\n",
              "      <td>3</td>\n",
              "      <td>0</td>\n",
              "      <td>t3_lpu5j</td>\n",
              "      <td>0</td>\n",
              "      <td>My girlfriend decided it would be a good idea ...</td>\n",
              "      <td>My girlfriend decided it would be a good idea ...</td>\n",
              "      <td>[Request] Hungry couple in Dundee, Scotland wo...</td>\n",
              "      <td>0.0000</td>\n",
              "      <td>771.616181</td>\n",
              "      <td>0.0</td>\n",
              "      <td>771.616181</td>\n",
              "      <td>0</td>\n",
              "      <td>0</td>\n",
              "      <td>0</td>\n",
              "      <td>0</td>\n",
              "      <td>0</td>\n",
              "      <td>1</td>\n",
              "      <td>0</td>\n",
              "      <td>1</td>\n",
              "      <td>0</td>\n",
              "      <td>False</td>\n",
              "      <td>[]</td>\n",
              "      <td>0</td>\n",
              "      <td>3</td>\n",
              "      <td>0</td>\n",
              "      <td>3</td>\n",
              "      <td>None</td>\n",
              "      <td>jacquibatman7</td>\n",
              "      <td>1319650094</td>\n",
              "      <td>1319646494</td>\n",
              "    </tr>\n",
              "  </tbody>\n",
              "</table>\n",
              "</div>"
            ],
            "text/plain": [
              "  giver_username_if_known  ...  unix_timestamp_of_request_utc\n",
              "0                     N/A  ...                     1317849007\n",
              "1                     N/A  ...                     1332648824\n",
              "2                     N/A  ...                     1319646494\n",
              "\n",
              "[3 rows x 32 columns]"
            ]
          },
          "metadata": {
            "tags": []
          },
          "execution_count": 7
        }
      ]
    },
    {
      "cell_type": "markdown",
      "metadata": {
        "id": "zS5DmtFaCngM"
      },
      "source": [
        "Next, look for missing values in the train and test set.  We find there are missing values in 'user_flair\" feature and that the test set has fewer variables than the train set.  But in further research we found a note from a researcher who collected the data:\n",
        "\n",
        "'''\n",
        "*Yes, \"giver_username_if_known\" cannot be used for success prediction as it perfectly indicates success (but we don't always know the giver if the request was successful).*\n",
        "\n",
        "*Similarly, user_flair also gives away whether or not the user was successful. In fact, this is from which we derive the ground truth.*\n",
        "'''\n",
        "\n",
        "Thus, we will need to remove \"giver_username_if_known\" and \"user_flair\" features from train set and will no have missing values.  \n",
        "\n",
        "[reference](https://www.kaggle.com/c/random-acts-of-pizza/discussion/10411)"
      ]
    },
    {
      "cell_type": "code",
      "metadata": {
        "colab": {
          "base_uri": "https://localhost:8080/"
        },
        "id": "wij4cFzlChbA",
        "outputId": "3b436b1f-e7e9-4a93-f9cf-c7150bb91faa"
      },
      "source": [
        "# Missing values\n",
        "train.columns[train.isna().sum() != 0]"
      ],
      "execution_count": null,
      "outputs": [
        {
          "output_type": "execute_result",
          "data": {
            "text/plain": [
              "Index(['requester_user_flair'], dtype='object')"
            ]
          },
          "metadata": {
            "tags": []
          },
          "execution_count": 7
        }
      ]
    },
    {
      "cell_type": "code",
      "metadata": {
        "colab": {
          "base_uri": "https://localhost:8080/"
        },
        "id": "FgYQsCCXDY4u",
        "outputId": "2498a551-3a4e-493c-d1c2-447249142856"
      },
      "source": [
        "test.columns[test.isna().sum() != 0]"
      ],
      "execution_count": null,
      "outputs": [
        {
          "output_type": "execute_result",
          "data": {
            "text/plain": [
              "Index([], dtype='object')"
            ]
          },
          "metadata": {
            "tags": []
          },
          "execution_count": 8
        }
      ]
    },
    {
      "cell_type": "markdown",
      "metadata": {
        "id": "nSldaiyB6YcZ"
      },
      "source": [
        "Then, compare the train and test sets to make sure they have the same features.  We find they are different and we will remove features from the train set that are not in the test set."
      ]
    },
    {
      "cell_type": "code",
      "metadata": {
        "colab": {
          "base_uri": "https://localhost:8080/"
        },
        "id": "Ze7ixXsCDlQB",
        "outputId": "4053871f-45eb-4bbc-81d4-3be2fcab844a"
      },
      "source": [
        "# Some features are missing in the test set.  We will only consider the features in the test set.\n",
        "train.columns.isin(test.columns)\n"
      ],
      "execution_count": null,
      "outputs": [
        {
          "output_type": "execute_result",
          "data": {
            "text/plain": [
              "array([ True, False, False, False,  True, False, False,  True,  True,\n",
              "        True, False,  True, False,  True, False,  True, False,  True,\n",
              "       False,  True, False,  True, False,  True,  True, False,  True,\n",
              "       False, False,  True,  True,  True])"
            ]
          },
          "metadata": {
            "tags": []
          },
          "execution_count": 9
        }
      ]
    },
    {
      "cell_type": "markdown",
      "metadata": {
        "id": "GME6w_-L6i3Z"
      },
      "source": [
        "Look at the data types of each feature.  They are a mix of objects and numeric."
      ]
    },
    {
      "cell_type": "code",
      "metadata": {
        "colab": {
          "base_uri": "https://localhost:8080/"
        },
        "id": "Tz6pCOwoD-7O",
        "outputId": "727db561-899a-463b-e12e-0ecddd69a3eb"
      },
      "source": [
        "# The features in this dataset are a mix of objects that contain text and numeric.\n",
        "test_only_features = train.columns[train.columns.isin(test.columns)]\n",
        "\n",
        "train[test_only_features].dtypes"
      ],
      "execution_count": null,
      "outputs": [
        {
          "output_type": "execute_result",
          "data": {
            "text/plain": [
              "giver_username_if_known                                object\n",
              "request_id                                             object\n",
              "request_text_edit_aware                                object\n",
              "request_title                                          object\n",
              "requester_account_age_in_days_at_request              float64\n",
              "requester_days_since_first_post_on_raop_at_request    float64\n",
              "requester_number_of_comments_at_request                 int64\n",
              "requester_number_of_comments_in_raop_at_request         int64\n",
              "requester_number_of_posts_at_request                    int64\n",
              "requester_number_of_posts_on_raop_at_request            int64\n",
              "requester_number_of_subreddits_at_request               int64\n",
              "requester_subreddits_at_request                        object\n",
              "requester_upvotes_minus_downvotes_at_request            int64\n",
              "requester_upvotes_plus_downvotes_at_request             int64\n",
              "requester_username                                     object\n",
              "unix_timestamp_of_request                               int64\n",
              "unix_timestamp_of_request_utc                           int64\n",
              "dtype: object"
            ]
          },
          "metadata": {
            "tags": []
          },
          "execution_count": 10
        }
      ]
    },
    {
      "cell_type": "markdown",
      "metadata": {
        "id": "cUQAAsYwJldW"
      },
      "source": [
        "Split the data into numeric and text to perform EDAs on those feature types separately."
      ]
    },
    {
      "cell_type": "code",
      "metadata": {
        "id": "QWttjLpHJsbk"
      },
      "source": [
        "# Split into num and text\n",
        "train_text = train[['request_id', \n",
        "                    'request_text_edit_aware', \n",
        "                    'request_title', \n",
        "                    'requester_subreddits_at_request', \n",
        "                    'requester_username', \n",
        "                    'unix_timestamp_of_request', \n",
        "                    'unix_timestamp_of_request_utc']]\n",
        "\n",
        "train_num = train[['requester_account_age_in_days_at_request',\n",
        "                   'requester_days_since_first_post_on_raop_at_request', \n",
        "                   'requester_number_of_comments_at_request',\n",
        "                   'requester_number_of_comments_in_raop_at_request', \n",
        "                   'requester_number_of_posts_at_request',\n",
        "                   'requester_number_of_posts_on_raop_at_request', \n",
        "                   'requester_number_of_subreddits_at_request', \n",
        "                   'requester_upvotes_minus_downvotes_at_request', \n",
        "                   'requester_upvotes_plus_downvotes_at_request']]\n",
        "\n",
        "labels = train['requester_received_pizza'].astype(int)"
      ],
      "execution_count": null,
      "outputs": []
    },
    {
      "cell_type": "markdown",
      "metadata": {
        "id": "SnBnKrcYFOpQ"
      },
      "source": [
        "# 4.2. EDA - Numeric\n",
        "\n",
        "Start with analysis of the metadata"
      ]
    },
    {
      "cell_type": "markdown",
      "metadata": {
        "id": "lYOKX3vJFmWL"
      },
      "source": [
        "First, roughly 25% of the posts received pizza."
      ]
    },
    {
      "cell_type": "code",
      "metadata": {
        "colab": {
          "base_uri": "https://localhost:8080/",
          "height": 296
        },
        "id": "9B_by3-JEMzy",
        "outputId": "3addba8d-fd84-43eb-baf4-c876c5e4628a"
      },
      "source": [
        "# Frequency of received pizza\n",
        "sns.countplot(x='value', data=pd.melt(pd.DataFrame(labels)))\n",
        "a, b = np.unique(labels, return_counts=True)[1]\n",
        "print('Fraction recieved pizza:', round(b/(a+b), 3))\n"
      ],
      "execution_count": null,
      "outputs": [
        {
          "output_type": "stream",
          "text": [
            "Fraction recieved pizza: 0.246\n"
          ],
          "name": "stdout"
        },
        {
          "output_type": "display_data",
          "data": {
            "image/png": "[encoded data removed]",
            "text/plain": [
              "<Figure size 432x288 with 1 Axes>"
            ]
          },
          "metadata": {
            "tags": [],
            "needs_background": "light"
          }
        }
      ]
    },
    {
      "cell_type": "markdown",
      "metadata": {
        "id": "2WBdItPbLJ6L"
      },
      "source": [
        "Second, the values in the numeric features ranged quite a bit.  Some values were smaller, such as the number of days the user has had an account on reddit.  While other numbers like upvotes and downvotes were much larger.  Thus, we decided to standardize the numeric variables to to help model convergence."
      ]
    },
    {
      "cell_type": "code",
      "metadata": {
        "colab": {
          "base_uri": "https://localhost:8080/",
          "height": 224
        },
        "id": "P6CRRNfFGTZL",
        "outputId": "b181b39b-f890-4761-d73b-c5d51c41c215"
      },
      "source": [
        "# Scale the values given their range varies greatly\n",
        "# this will give equal weight to coefficients during gradient descent and help with convergence\n",
        "\n",
        "names = list(train_num.columns)\n",
        "\n",
        "scaler = MinMaxScaler()\n",
        "scaler.fit(train_num)\n",
        "train_num_scaled = pd.DataFrame(scaler.fit_transform(train_num), columns=train_num.columns, index=train_num.index)\n",
        "train_num_scaled.head(5)"
      ],
      "execution_count": null,
      "outputs": [
        {
          "output_type": "execute_result",
          "data": {
            "text/html": [
              "<div>\n",
              "<style scoped>\n",
              "    .dataframe tbody tr th:only-of-type {\n",
              "        vertical-align: middle;\n",
              "    }\n",
              "\n",
              "    .dataframe tbody tr th {\n",
              "        vertical-align: top;\n",
              "    }\n",
              "\n",
              "    .dataframe thead th {\n",
              "        text-align: right;\n",
              "    }\n",
              "</style>\n",
              "<table border=\"1\" class=\"dataframe\">\n",
              "  <thead>\n",
              "    <tr style=\"text-align: right;\">\n",
              "      <th></th>\n",
              "      <th>requester_account_age_in_days_at_request</th>\n",
              "      <th>requester_days_since_first_post_on_raop_at_request</th>\n",
              "      <th>requester_number_of_comments_at_request</th>\n",
              "      <th>requester_number_of_comments_in_raop_at_request</th>\n",
              "      <th>requester_number_of_posts_at_request</th>\n",
              "      <th>requester_number_of_posts_on_raop_at_request</th>\n",
              "      <th>requester_number_of_subreddits_at_request</th>\n",
              "      <th>requester_upvotes_minus_downvotes_at_request</th>\n",
              "      <th>requester_upvotes_plus_downvotes_at_request</th>\n",
              "    </tr>\n",
              "  </thead>\n",
              "  <tbody>\n",
              "    <tr>\n",
              "      <th>0</th>\n",
              "      <td>0.000000</td>\n",
              "      <td>0.00000</td>\n",
              "      <td>0.000000</td>\n",
              "      <td>0.000000</td>\n",
              "      <td>0.000000</td>\n",
              "      <td>0.0</td>\n",
              "      <td>0.000000</td>\n",
              "      <td>0.001115</td>\n",
              "      <td>0.000000</td>\n",
              "    </tr>\n",
              "    <tr>\n",
              "      <th>1</th>\n",
              "      <td>0.178347</td>\n",
              "      <td>0.00000</td>\n",
              "      <td>0.000000</td>\n",
              "      <td>0.000000</td>\n",
              "      <td>0.017301</td>\n",
              "      <td>0.0</td>\n",
              "      <td>0.064516</td>\n",
              "      <td>0.001334</td>\n",
              "      <td>0.000090</td>\n",
              "    </tr>\n",
              "    <tr>\n",
              "      <th>2</th>\n",
              "      <td>0.000000</td>\n",
              "      <td>0.00000</td>\n",
              "      <td>0.000000</td>\n",
              "      <td>0.000000</td>\n",
              "      <td>0.000000</td>\n",
              "      <td>0.0</td>\n",
              "      <td>0.000000</td>\n",
              "      <td>0.001115</td>\n",
              "      <td>0.000000</td>\n",
              "    </tr>\n",
              "    <tr>\n",
              "      <th>3</th>\n",
              "      <td>0.002320</td>\n",
              "      <td>0.00000</td>\n",
              "      <td>0.036217</td>\n",
              "      <td>0.000000</td>\n",
              "      <td>0.001153</td>\n",
              "      <td>0.0</td>\n",
              "      <td>0.021505</td>\n",
              "      <td>0.001463</td>\n",
              "      <td>0.000059</td>\n",
              "    </tr>\n",
              "    <tr>\n",
              "      <th>4</th>\n",
              "      <td>0.057679</td>\n",
              "      <td>0.12936</td>\n",
              "      <td>0.140845</td>\n",
              "      <td>0.022727</td>\n",
              "      <td>0.016148</td>\n",
              "      <td>0.0</td>\n",
              "      <td>0.059140</td>\n",
              "      <td>0.008339</td>\n",
              "      <td>0.001347</td>\n",
              "    </tr>\n",
              "  </tbody>\n",
              "</table>\n",
              "</div>"
            ],
            "text/plain": [
              "   requester_account_age_in_days_at_request  ...  requester_upvotes_plus_downvotes_at_request\n",
              "0                                  0.000000  ...                                     0.000000\n",
              "1                                  0.178347  ...                                     0.000090\n",
              "2                                  0.000000  ...                                     0.000000\n",
              "3                                  0.002320  ...                                     0.000059\n",
              "4                                  0.057679  ...                                     0.001347\n",
              "\n",
              "[5 rows x 9 columns]"
            ]
          },
          "metadata": {
            "tags": []
          },
          "execution_count": 13
        }
      ]
    },
    {
      "cell_type": "markdown",
      "metadata": {
        "id": "ABl9tN8SL088"
      },
      "source": [
        "Third, the numeric variables all have skewed distributions.  Some transformations like log transform could help improve relationships between the numeric variables and the labels especially for linearly separable models.  However zeros in the dataset are incompatible with log transformation so we did not pursue such transformations here."
      ]
    },
    {
      "cell_type": "code",
      "metadata": {
        "colab": {
          "base_uri": "https://localhost:8080/",
          "height": 378
        },
        "id": "0ROA4KvxGZOp",
        "outputId": "3990155f-4723-45d6-9f74-399d76a451d1"
      },
      "source": [
        "# Plot boxplots of the different numeric features\n",
        "dims = (15, 6)\n",
        "fig, ax = plt.subplots(figsize=dims)\n",
        "X_train_melt = pd.melt(train_num_scaled)\n",
        "\n",
        "sns.boxplot(ax=ax,\n",
        "            y=X_train_melt['value'], \n",
        "            x='variable', \n",
        "            data=X_train_melt)\n",
        "ax.get_xaxis().set_visible(False)\n",
        "ax.set_xlabel('Numeric Features')\n",
        "ax.set_ylabel('Scaled Values')"
      ],
      "execution_count": null,
      "outputs": [
        {
          "output_type": "execute_result",
          "data": {
            "text/plain": [
              "Text(0, 0.5, 'Scaled Values')"
            ]
          },
          "metadata": {
            "tags": []
          },
          "execution_count": 14
        },
        {
          "output_type": "display_data",
          "data": {
            "image/png": "[encoded data removed]",
            "text/plain": [
              "<Figure size 1080x432 with 1 Axes>"
            ]
          },
          "metadata": {
            "tags": [],
            "needs_background": "light"
          }
        }
      ]
    },
    {
      "cell_type": "markdown",
      "metadata": {
        "id": "-9Sc7darkS2U"
      },
      "source": [
        "Lastly, a correlation matrix is built around the numeric features.  It appears there is not numeric feature that has a strong correlation with requester_received_pizza."
      ]
    },
    {
      "cell_type": "code",
      "metadata": {
        "colab": {
          "base_uri": "https://localhost:8080/",
          "height": 649
        },
        "id": "zWqusTeNIcGs",
        "outputId": "c5dc263f-4394-44d2-bd89-2d233378a1c7"
      },
      "source": [
        "# Correlation Matrix - only weak correlations b/w numeric features and label\n",
        "dims = (12, 6)\n",
        "fig, ax = plt.subplots(figsize=dims)\n",
        "\n",
        "temp_df = (pd.concat([train_num_scaled, labels], axis=1, sort=False))\n",
        "sns.heatmap(temp_df.corr())"
      ],
      "execution_count": null,
      "outputs": [
        {
          "output_type": "execute_result",
          "data": {
            "text/plain": [
              "<matplotlib.axes._subplots.AxesSubplot at 0x7f807a7a10b8>"
            ]
          },
          "metadata": {
            "tags": []
          },
          "execution_count": 15
        },
        {
          "output_type": "display_data",
          "data": {
            "image/png": "[encoded data removed]",
            "text/plain": [
              "<Figure size 864x432 with 2 Axes>"
            ]
          },
          "metadata": {
            "tags": [],
            "needs_background": "light"
          }
        }
      ]
    },
    {
      "cell_type": "markdown",
      "metadata": {
        "id": "LuBRyCHxUWIl"
      },
      "source": [
        "# 4.3. EDA - Text\n",
        "\n",
        "Here, the request_text is studied to find distributions of words and their relationships with requester_received_pizza.  To properly visualize the distribution of requester_recieved_pizza on text, we downsize the majority class. Otherwise the negative class will outcount the positive class."
      ]
    },
    {
      "cell_type": "code",
      "metadata": {
        "id": "to0v8S_mRf-Y"
      },
      "source": [
        "# Downsize majority with random sampling\n",
        "train_down = down_sample_majority(train, 'requester_received_pizza', majority_value=0)\n",
        "labels_down = train_down['requester_received_pizza']\n",
        "\n",
        "\n",
        "# Split into num and text\n",
        "train_text_down = train_down[['request_id', \n",
        "                    'request_text_edit_aware', \n",
        "                    'request_title', \n",
        "                    'requester_subreddits_at_request', \n",
        "                    'requester_username', \n",
        "                    'unix_timestamp_of_request', \n",
        "                    'unix_timestamp_of_request_utc']]"
      ],
      "execution_count": null,
      "outputs": []
    },
    {
      "cell_type": "markdown",
      "metadata": {
        "id": "HH9q1-kunpyG"
      },
      "source": [
        "First, we take a look at the most popular words in both requester_received_pizza classes.  We find the most popular words are the same in both classes."
      ]
    },
    {
      "cell_type": "code",
      "metadata": {
        "colab": {
          "base_uri": "https://localhost:8080/",
          "height": 338
        },
        "id": "E_OLnGBiYJtt",
        "outputId": "c46c1bbd-167c-48fe-b9ed-854f6d130208"
      },
      "source": [
        "# Request words vs pizza\n",
        "dims = (20, 6)\n",
        "fig, ax = plt.subplots(figsize=dims)\n",
        "\n",
        "request_positive_df, request_positive_label = label_per_word(train_text_down, \n",
        "                                                         labels_down, \n",
        "                                                         feature='request_text_edit_aware', \n",
        "                                                         label='requester_received_pizza',\n",
        "                                                         label_value=1)\n",
        "\n",
        "request_negative_df, request_negative_label = label_per_word(train_text_down, \n",
        "                                                                    labels_down, \n",
        "                                                                    feature='request_text_edit_aware',\n",
        "                                                                    label='requester_received_pizza',\n",
        "                                                                    label_value=0)\n",
        "\n",
        "sns.boxplot(x=request_positive_label.head(30).index, \n",
        "            y=request_positive_label.head(30)['count'])\n",
        "\n",
        "sns.boxplot(x=request_negative_label.head(30).index, \n",
        "            y=request_negative_label.head(30)['count'])"
      ],
      "execution_count": null,
      "outputs": [
        {
          "output_type": "execute_result",
          "data": {
            "text/plain": [
              "<matplotlib.axes._subplots.AxesSubplot at 0x7f8079d0d128>"
            ]
          },
          "metadata": {
            "tags": []
          },
          "execution_count": 17
        },
        {
          "output_type": "display_data",
          "data": {
            "image/png": "[encoded data removed]",
            "text/plain": [
              "<Figure size 1440x432 with 1 Axes>"
            ]
          },
          "metadata": {
            "tags": [],
            "needs_background": "light"
          }
        }
      ]
    },
    {
      "cell_type": "markdown",
      "metadata": {
        "id": "Ci3wGaJe6-dF"
      },
      "source": [
        "Second, to dig deeper we use KMeans to find clusters of text data.  TfidfVectorizer is used to encode the words in each post and then PCA is used to reduce to two principal components for visualization."
      ]
    },
    {
      "cell_type": "code",
      "metadata": {
        "colab": {
          "base_uri": "https://localhost:8080/",
          "height": 312
        },
        "id": "Tc-X49uy7HnV",
        "outputId": "2e24d347-2cea-4d26-8949-c9d6c52208cc"
      },
      "source": [
        "# Vectorizer the words with Tfid\n",
        "tfidf = TfidfVectorizer(stop_words='english', max_features=20000)\n",
        "tfidf_vector = tfidf.fit_transform(train_text_down['request_text_edit_aware'])\n",
        "tfidf_norm = normalize(tfidf_vector)\n",
        "tfidf_array = tfidf_norm.toarray()\n",
        "\n",
        "# Reduce to 2 principal components using PCA\n",
        "pca = PCA(n_components=2)\n",
        "y_pca = pca.fit_transform(tfidf_array)\n",
        "kmeans = KMeans(n_clusters=3, max_iter=600, algorithm='auto')\n",
        "fitted = kmeans.fit(y_pca)\n",
        "prediction = kmeans.predict(y_pca)\n",
        "\n",
        "# Search for the optimal number of clusters \n",
        "num_clusters = range(1, 15)\n",
        "kmeans = [KMeans(n_clusters=i, max_iter=600) for i in num_clusters]\n",
        "score = [kmeans[i].fit(y_pca).score(y_pca) for i in range(len(kmeans))]\n",
        "\n",
        "plt.plot(num_clusters, score)\n",
        "plt.xlabel('Number of Clusters')\n",
        "plt.ylabel('Score')\n",
        "plt.title('Optimal Numer of Clusters - Elbow Method')"
      ],
      "execution_count": null,
      "outputs": [
        {
          "output_type": "execute_result",
          "data": {
            "text/plain": [
              "Text(0.5, 1.0, 'Optimal Numer of Clusters - Elbow Method')"
            ]
          },
          "metadata": {
            "tags": []
          },
          "execution_count": 237
        },
        {
          "output_type": "display_data",
          "data": {
            "image/png": "[encoded data removed]",
            "text/plain": [
              "<Figure size 432x288 with 1 Axes>"
            ]
          },
          "metadata": {
            "tags": [],
            "needs_background": "light"
          }
        }
      ]
    },
    {
      "cell_type": "markdown",
      "metadata": {
        "id": "lqIhi-au78qN"
      },
      "source": [
        "Base on the above graph, six clusters is roughly chosen."
      ]
    },
    {
      "cell_type": "code",
      "metadata": {
        "colab": {
          "base_uri": "https://localhost:8080/",
          "height": 296
        },
        "id": "97IR2Hhf7inG",
        "outputId": "d7e160c7-9c9d-4f7a-cd58-96140d0010a4"
      },
      "source": [
        "# Implement kmeans for six clusters\n",
        "kmeans = KMeans(n_clusters=6, max_iter=600, algorithm='auto')\n",
        "fitted = kmeans.fit(y_pca)\n",
        "prediction = kmeans.predict(y_pca)\n",
        "\n",
        "# Visualize the six clusters amongst the 2 principal components\n",
        "plt.scatter(y_pca[:, 0], y_pca[:, 1], c=prediction, s=50, cmap='viridis')\n",
        "centers = fitted.cluster_centers_\n",
        "plt.scatter(centers[:, 0], centers[:, 1], c='black', s=300, alpha=0.6)\n",
        "plt.xlabel('component 1')\n",
        "plt.ylabel('component 2')"
      ],
      "execution_count": null,
      "outputs": [
        {
          "output_type": "execute_result",
          "data": {
            "text/plain": [
              "Text(0, 0.5, 'component 2')"
            ]
          },
          "metadata": {
            "tags": []
          },
          "execution_count": 238
        },
        {
          "output_type": "display_data",
          "data": {
            "image/png": "[encoded data removed]",
            "text/plain": [
              "<Figure size 432x288 with 1 Axes>"
            ]
          },
          "metadata": {
            "tags": [],
            "needs_background": "light"
          }
        }
      ]
    },
    {
      "cell_type": "markdown",
      "metadata": {
        "id": "e9ZPlM5r8Jry"
      },
      "source": [
        "There is quite a bit of overlap in the clusters.  Next, the top 15 words in each cluster is visualized."
      ]
    },
    {
      "cell_type": "code",
      "metadata": {
        "colab": {
          "base_uri": "https://localhost:8080/",
          "height": 1000
        },
        "id": "ar58gCj48YZU",
        "outputId": "50224c64-afdd-4a0b-d69c-e3e3f6e58d2d"
      },
      "source": [
        "dfs = get_top_features_cluster(tfidf_array, prediction, 15)\n",
        "\n",
        "fig, ((ax1, ax2), (ax3, ax4), (ax5, ax6)) = plt.subplots(nrows=3, ncols=2, figsize=(20, 20))\n",
        "\n",
        "sns.barplot(ax=ax1, x=\"score\", y='features', orient='h', data=dfs[0]).set_title('cluster 0')\n",
        "sns.barplot(ax=ax2, x=\"score\", y='features', orient='h', data=dfs[1]).set_title('cluster 1')\n",
        "sns.barplot(ax=ax3, x=\"score\", y='features', orient='h', data=dfs[2]).set_title('cluster 2')\n",
        "sns.barplot(ax=ax4, x=\"score\", y='features', orient='h', data=dfs[3]).set_title('cluster 3')\n",
        "sns.barplot(ax=ax5, x=\"score\", y='features', orient='h', data=dfs[4]).set_title('cluster 4')\n",
        "sns.barplot(ax=ax6, x=\"score\", y='features', orient='h', data=dfs[5]).set_title('cluster 5')"
      ],
      "execution_count": null,
      "outputs": [
        {
          "output_type": "execute_result",
          "data": {
            "text/plain": [
              "Text(0.5, 1.0, 'cluster 5')"
            ]
          },
          "metadata": {
            "tags": []
          },
          "execution_count": 260
        },
        {
          "output_type": "display_data",
          "data": {
            "image/png": "[encoded data removed]",
            "text/plain": [
              "<Figure size 1440x1440 with 6 Axes>"
            ]
          },
          "metadata": {
            "tags": [],
            "needs_background": "light"
          }
        }
      ]
    },
    {
      "cell_type": "markdown",
      "metadata": {
        "id": "ZQV3plw-eKbc"
      },
      "source": [
        "The six clusters have considerable overap with words like pizza that is used in all the posts.  However the clusters suggest several categories:\n",
        "\n",
        "Cluster 0: com, http, imgur, jpg, www, picture, proof, pic\n",
        "\n",
        "* regards pictures and showing evidence they need pizza\n",
        "\n",
        "Cluster 3: pay, forward\n",
        "\n",
        "* giving back to community\n",
        "\n",
        "Cluster 4: love\n",
        "\n",
        "* might suggest the intensity of one's craving for pizza\n",
        "\n",
        "Cluster 5: thanks, help, love, appreciate\n",
        "\n",
        "* gratitude if pizza was given\n",
        "\n",
        "Between groups:\n",
        "* money: bill, pay, broke, paycheck, rent, account\n"
      ]
    },
    {
      "cell_type": "code",
      "metadata": {
        "colab": {
          "base_uri": "https://localhost:8080/",
          "height": 296
        },
        "id": "x3Mn_BTnf853",
        "outputId": "4281da63-23bb-4a6f-a553-fe5f5175683c"
      },
      "source": [
        "length_pos_pizza = [len(i) for i in train_text_down['request_text_edit_aware'][labels_down == 1]]\n",
        "length_neg_pizza = [len(i) for i in train_text_down['request_text_edit_aware'][labels_down == 0]]\n",
        "\n",
        "temp_df1 = pd.DataFrame({'requester_receieved_pizza': 'positive', 'count':length_pos_pizza})\n",
        "temp_df2 = pd.DataFrame({'requester_receieved_pizza': 'negative','count': length_neg_pizza})\n",
        "temp_df3 = temp_df1.append(temp_df2)\n",
        "\n",
        "sns.histplot(data=temp_df3, x='count', hue='requester_receieved_pizza', element=\"poly\")"
      ],
      "execution_count": null,
      "outputs": [
        {
          "output_type": "execute_result",
          "data": {
            "text/plain": [
              "<matplotlib.axes._subplots.AxesSubplot at 0x7f807454a470>"
            ]
          },
          "metadata": {
            "tags": []
          },
          "execution_count": 19
        },
        {
          "output_type": "display_data",
          "data": {
            "image/png": "[encoded data removed]",
            "text/plain": [
              "<Figure size 432x288 with 1 Axes>"
            ]
          },
          "metadata": {
            "tags": [],
            "needs_background": "light"
          }
        }
      ]
    },
    {
      "cell_type": "markdown",
      "metadata": {
        "id": "VjT6rbvHo46v"
      },
      "source": [
        "# 5.1 Train Dev Split\n",
        "\n",
        "After EDA, we have some ideas on features to use for the models and the next step is to prepare the data by splitting the train into train and dev."
      ]
    },
    {
      "cell_type": "code",
      "metadata": {
        "colab": {
          "base_uri": "https://localhost:8080/"
        },
        "id": "cYYvyXvdo4X7",
        "outputId": "bb08955b-08eb-4430-d74f-0ce91f5c96e4"
      },
      "source": [
        "# Reassembling all the features\n",
        "train_features = pd.concat([train_num_scaled, train_text], axis=1)\n",
        "\n",
        "# Split train to train and dev\n",
        "X_train, X_dev, y_train, y_dev = train_test_split(train_features, labels, test_size=0.2, random_state=1)\n",
        "\n",
        "# Split into num and text\n",
        "train_text = X_train[['request_id', \n",
        "                    'request_text_edit_aware', \n",
        "                    'request_title', \n",
        "                    'requester_subreddits_at_request', \n",
        "                    'requester_username', \n",
        "                    'unix_timestamp_of_request', \n",
        "                    'unix_timestamp_of_request_utc']]\n",
        "\n",
        "dev_text = X_dev[['request_id', \n",
        "                    'request_text_edit_aware', \n",
        "                    'request_title', \n",
        "                    'requester_subreddits_at_request', \n",
        "                    'requester_username', \n",
        "                    'unix_timestamp_of_request', \n",
        "                    'unix_timestamp_of_request_utc']]\n",
        "\n",
        "train_num = X_train[['requester_account_age_in_days_at_request',\n",
        "                   'requester_days_since_first_post_on_raop_at_request', \n",
        "                   'requester_number_of_comments_at_request',\n",
        "                   'requester_number_of_comments_in_raop_at_request', \n",
        "                   'requester_number_of_posts_at_request',\n",
        "                   'requester_number_of_posts_on_raop_at_request', \n",
        "                   'requester_number_of_subreddits_at_request', \n",
        "                   'requester_upvotes_minus_downvotes_at_request', \n",
        "                   'requester_upvotes_plus_downvotes_at_request']]\n",
        "\n",
        "dev_num = X_dev[['requester_account_age_in_days_at_request',\n",
        "                   'requester_days_since_first_post_on_raop_at_request', \n",
        "                   'requester_number_of_comments_at_request',\n",
        "                   'requester_number_of_comments_in_raop_at_request', \n",
        "                   'requester_number_of_posts_at_request',\n",
        "                   'requester_number_of_posts_on_raop_at_request', \n",
        "                   'requester_number_of_subreddits_at_request', \n",
        "                   'requester_upvotes_minus_downvotes_at_request', \n",
        "                   'requester_upvotes_plus_downvotes_at_request']]\n",
        "\n",
        "# Reset the indexes \n",
        "train_num = train_num.reset_index().drop('index', axis=1)\n",
        "dev_num = dev_num.reset_index().drop('index', axis=1)\n",
        "\n",
        "train_text = train_text.reset_index().drop('index', axis=1)\n",
        "dev_text = dev_text.reset_index().drop('index', axis=1)\n",
        "\n",
        "y_train = pd.Series(pd.DataFrame(y_train).reset_index().drop('index', axis=1).iloc[:,0])\n",
        "y_dev = pd.Series(pd.DataFrame(y_dev).reset_index().drop('index', axis=1).iloc[:,0])\n",
        "\n",
        "print('train_num')\n",
        "print(train_num.dtypes)\n",
        "\n",
        "print('\\ntrain_text')\n",
        "print(train_text.dtypes)\n",
        "\n",
        "print('\\nshape')\n",
        "print(train_num.shape)\n",
        "print(dev_num.shape)\n",
        "print(train_text.shape)\n",
        "print(dev_text.shape)"
      ],
      "execution_count": null,
      "outputs": [
        {
          "output_type": "stream",
          "text": [
            "train_num\n",
            "requester_account_age_in_days_at_request              float64\n",
            "requester_days_since_first_post_on_raop_at_request    float64\n",
            "requester_number_of_comments_at_request               float64\n",
            "requester_number_of_comments_in_raop_at_request       float64\n",
            "requester_number_of_posts_at_request                  float64\n",
            "requester_number_of_posts_on_raop_at_request          float64\n",
            "requester_number_of_subreddits_at_request             float64\n",
            "requester_upvotes_minus_downvotes_at_request          float64\n",
            "requester_upvotes_plus_downvotes_at_request           float64\n",
            "dtype: object\n",
            "\n",
            "train_text\n",
            "request_id                         object\n",
            "request_text_edit_aware            object\n",
            "request_title                      object\n",
            "requester_subreddits_at_request    object\n",
            "requester_username                 object\n",
            "unix_timestamp_of_request           int64\n",
            "unix_timestamp_of_request_utc       int64\n",
            "dtype: object\n",
            "\n",
            "shape\n",
            "(3232, 9)\n",
            "(808, 9)\n",
            "(3232, 7)\n",
            "(808, 7)\n"
          ],
          "name": "stdout"
        }
      ]
    },
    {
      "cell_type": "markdown",
      "metadata": {
        "id": "sRBnhuVaI34N"
      },
      "source": [
        "# 5.2 Baseline Model\n",
        "\n",
        "\n",
        "# 5.2.1 Numeric features only\n",
        "Now a bseline model is built using binomial logistic regression with numeric features from the training set.  The RMSE continues to decrease up to C=2 which is also the maximum of the accuracy and ROC_AUC_scores.  Based on accuracy, the score is 77% and based on ROC_AUC_score, the score is 57%."
      ]
    },
    {
      "cell_type": "code",
      "metadata": {
        "colab": {
          "base_uri": "https://localhost:8080/",
          "height": 255
        },
        "id": "yas0ZIkVIyKd",
        "outputId": "0625cef5-d92b-4785-d157-3122e24ce4b2"
      },
      "source": [
        "# Build logistic model and search for optimal inverse regularization term\n",
        "C_values = [0.1, 1, 2, 5]\n",
        "rmse_base, accuracy_base, roc_base = log_reg(train_num, y_train, dev_num, y_dev, C_values=C_values)\n",
        "\n",
        "# Plot results\n",
        "fig, (ax1, ax2, ax3) = plt.subplots(nrows=1, ncols=3, figsize=(20,4))\n",
        "\n",
        "# Show both accuracy and ROC_AUC_score\n",
        "ax1.plot(C_values, rmse_base, label='RMSE')\n",
        "ax2.plot(C_values, accuracy_base, label='Accuracy')\n",
        "ax3.plot(C_values, roc_base, label='ROC_AUC_Score')\n",
        "\n",
        "ax1.set_xlabel('Inverse Regularization Term C')\n",
        "ax1.set_ylabel('RMSE')\n",
        "\n",
        "ax2.set_xlabel('Inverse Regularization Term C')\n",
        "ax2.set_ylabel('Accuracy')\n",
        "\n",
        "ax3.set_xlabel('Inverse Regularization Term C')\n",
        "ax3.set_ylabel('ROC_AUC_Score')"
      ],
      "execution_count": null,
      "outputs": [
        {
          "output_type": "execute_result",
          "data": {
            "text/plain": [
              "Text(0, 0.5, 'ROC_AUC_Score')"
            ]
          },
          "metadata": {
            "tags": []
          },
          "execution_count": 37
        },
        {
          "output_type": "display_data",
          "data": {
            "image/png": "[encoded data removed]",
            "text/plain": [
              "<Figure size 1440x288 with 3 Axes>"
            ]
          },
          "metadata": {
            "tags": [],
            "needs_background": "light"
          }
        }
      ]
    },
    {
      "cell_type": "markdown",
      "metadata": {
        "id": "QCEA9XDmQIoE"
      },
      "source": [
        "# 5.2.1. Feature Engineering - Numeric"
      ]
    },
    {
      "cell_type": "markdown",
      "metadata": {
        "id": "msrgqv5gQLnj"
      },
      "source": [
        "Next we take a look at the coefficients.  The magnitude of the coefficients correspond to the importance of the feature.  Additionally, a positive coefficient imparts a positive change in the probability of receiving pizza and a negative coefficient leads to decreasing chances of receiving pizza.\n",
        "\n",
        "* Coefficient 5, 3, 1, 0 are much larger compared to the rest (given the units have been scaled)\n",
        "* Since the magnitudes of the other coefficient are small, it maybe feasible to remove those features from the model"
      ]
    },
    {
      "cell_type": "code",
      "metadata": {
        "colab": {
          "base_uri": "https://localhost:8080/",
          "height": 328
        },
        "id": "0gx94wmnQDoN",
        "outputId": "5a4344e8-fd4d-4927-afc2-2a5e54501f95"
      },
      "source": [
        "# Coefficients\n",
        "logit_pizza = LogisticRegression(penalty='l2', C=1, max_iter=1000, solver='lbfgs').fit(train_num, y_train)\n",
        "y_predict = logit_pizza.predict(dev_num)\n",
        "\n",
        "coef_df = pd.DataFrame({'features': train_num.columns, 'coef': logit_pizza.coef_[0]})\n",
        "coef_df = coef_df.sort_values(by='coef', ascending=False).reset_index()\n",
        "coef_df"
      ],
      "execution_count": null,
      "outputs": [
        {
          "output_type": "execute_result",
          "data": {
            "text/html": [
              "<div>\n",
              "<style scoped>\n",
              "    .dataframe tbody tr th:only-of-type {\n",
              "        vertical-align: middle;\n",
              "    }\n",
              "\n",
              "    .dataframe tbody tr th {\n",
              "        vertical-align: top;\n",
              "    }\n",
              "\n",
              "    .dataframe thead th {\n",
              "        text-align: right;\n",
              "    }\n",
              "</style>\n",
              "<table border=\"1\" class=\"dataframe\">\n",
              "  <thead>\n",
              "    <tr style=\"text-align: right;\">\n",
              "      <th></th>\n",
              "      <th>index</th>\n",
              "      <th>features</th>\n",
              "      <th>coef</th>\n",
              "    </tr>\n",
              "  </thead>\n",
              "  <tbody>\n",
              "    <tr>\n",
              "      <th>0</th>\n",
              "      <td>5</td>\n",
              "      <td>requester_number_of_posts_on_raop_at_request</td>\n",
              "      <td>2.508686</td>\n",
              "    </tr>\n",
              "    <tr>\n",
              "      <th>1</th>\n",
              "      <td>3</td>\n",
              "      <td>requester_number_of_comments_in_raop_at_request</td>\n",
              "      <td>1.920097</td>\n",
              "    </tr>\n",
              "    <tr>\n",
              "      <th>2</th>\n",
              "      <td>1</td>\n",
              "      <td>requester_days_since_first_post_on_raop_at_req...</td>\n",
              "      <td>1.098080</td>\n",
              "    </tr>\n",
              "    <tr>\n",
              "      <th>3</th>\n",
              "      <td>0</td>\n",
              "      <td>requester_account_age_in_days_at_request</td>\n",
              "      <td>0.361794</td>\n",
              "    </tr>\n",
              "    <tr>\n",
              "      <th>4</th>\n",
              "      <td>6</td>\n",
              "      <td>requester_number_of_subreddits_at_request</td>\n",
              "      <td>0.262369</td>\n",
              "    </tr>\n",
              "    <tr>\n",
              "      <th>5</th>\n",
              "      <td>4</td>\n",
              "      <td>requester_number_of_posts_at_request</td>\n",
              "      <td>0.168050</td>\n",
              "    </tr>\n",
              "    <tr>\n",
              "      <th>6</th>\n",
              "      <td>7</td>\n",
              "      <td>requester_upvotes_minus_downvotes_at_request</td>\n",
              "      <td>0.087202</td>\n",
              "    </tr>\n",
              "    <tr>\n",
              "      <th>7</th>\n",
              "      <td>8</td>\n",
              "      <td>requester_upvotes_plus_downvotes_at_request</td>\n",
              "      <td>-0.002518</td>\n",
              "    </tr>\n",
              "    <tr>\n",
              "      <th>8</th>\n",
              "      <td>2</td>\n",
              "      <td>requester_number_of_comments_at_request</td>\n",
              "      <td>-0.070048</td>\n",
              "    </tr>\n",
              "  </tbody>\n",
              "</table>\n",
              "</div>"
            ],
            "text/plain": [
              "   index                                           features      coef\n",
              "0      5       requester_number_of_posts_on_raop_at_request  2.508686\n",
              "1      3    requester_number_of_comments_in_raop_at_request  1.920097\n",
              "2      1  requester_days_since_first_post_on_raop_at_req...  1.098080\n",
              "3      0           requester_account_age_in_days_at_request  0.361794\n",
              "4      6          requester_number_of_subreddits_at_request  0.262369\n",
              "5      4               requester_number_of_posts_at_request  0.168050\n",
              "6      7       requester_upvotes_minus_downvotes_at_request  0.087202\n",
              "7      8        requester_upvotes_plus_downvotes_at_request -0.002518\n",
              "8      2            requester_number_of_comments_at_request -0.070048"
            ]
          },
          "metadata": {
            "tags": []
          },
          "execution_count": 22
        }
      ]
    },
    {
      "cell_type": "markdown",
      "metadata": {
        "id": "okrZz5keQz1c"
      },
      "source": [
        "After reducing the number of coefficients, the ROC_AUC_score and the RMSE did not change much.  We were able to reduce complexity without losing performance."
      ]
    },
    {
      "cell_type": "code",
      "metadata": {
        "colab": {
          "base_uri": "https://localhost:8080/"
        },
        "id": "-p5DHoOXQzgw",
        "outputId": "6283a888-71c6-41f7-d10b-88badcae1378"
      },
      "source": [
        "# Reduce the features to those of high coefficients\n",
        "coef_index = list(coef_df['index'][0:4])\n",
        "\n",
        "train_num_red = train_num.iloc[:, coef_index]\n",
        "dev_num_red = dev_num.iloc[:, coef_index]\n",
        "\n",
        "# Model on raw numeric features\n",
        "rmse, accuracy, roc = log_reg(train_num, y_train, dev_num, y_dev, C_values=[1, 2])\n",
        "\n",
        "# Model on reduced numeric features\n",
        "rmse_red, accuracy_red, roc_red = log_reg(train_num_red, y_train, dev_num_red, y_dev, C_values=[1,2])\n",
        "\n",
        "# Print results\n",
        "print('RMSE - raw data: %0.2f' %rmse[1])\n",
        "print('ROC_AUC_score - raw data: %0.3f' %roc[1])\n",
        "print()\n",
        "\n",
        "print('RMSE - filtered: %0.2f' %rmse_red[1])\n",
        "print('ROC_AUC_score - filtered: %0.3f' %roc_red[1])"
      ],
      "execution_count": null,
      "outputs": [
        {
          "output_type": "stream",
          "text": [
            "RMSE - raw data: 0.24\n",
            "ROC_AUC_score - raw data: 0.582\n",
            "\n",
            "RMSE - filtered: 0.24\n",
            "ROC_AUC_score - filtered: 0.590\n"
          ],
          "name": "stdout"
        }
      ]
    },
    {
      "cell_type": "markdown",
      "metadata": {
        "id": "la7Bdes2gvS1"
      },
      "source": [
        "# 5.2.2 Feature Engineering - Text\n",
        "\n",
        "Now we begin to add text features to the reduced numeric features.  "
      ]
    },
    {
      "cell_type": "code",
      "metadata": {
        "id": "Zt-KkBNy4fGV"
      },
      "source": [
        "# Clean the text data using clean_text function.\n",
        "# Lower case, remove punctuation, remove common english words, and perform lemmatation\n",
        "clean_train_text = clean_text(train_text['request_text_edit_aware'])\n",
        "clean_dev_text = clean_text(dev_text['request_text_edit_aware'])\n",
        "\n",
        "train_textnum = train_num_red\n",
        "dev_textnum = dev_num_red"
      ],
      "execution_count": null,
      "outputs": []
    },
    {
      "cell_type": "markdown",
      "metadata": {
        "id": "YmSWDqK1OaIv"
      },
      "source": [
        "### Length of post\n",
        "Recall, from the EDA that distribution of posts that received pizza was slightly right of the posts that did not, suggesting word length could be an important feature.  Below we add word length into the model and see an increase in performance."
      ]
    },
    {
      "cell_type": "code",
      "metadata": {
        "colab": {
          "base_uri": "https://localhost:8080/"
        },
        "id": "sqRU-Y13gtj-",
        "outputId": "323f8bd7-4c7b-49cd-c0c7-02aa6b1284d0"
      },
      "source": [
        "# Length of posts\n",
        "train_post_length = np.array([len(i) for i in clean_train_text]).reshape(-1,1)\n",
        "dev_post_length = np.array([len(i) for i in clean_dev_text]).reshape(-1,1)\n",
        "\n",
        "# Scale the values\n",
        "scaler = MinMaxScaler()\n",
        "scaler.fit(train_post_length)\n",
        "train_post_length_scaled = scaler.fit_transform(train_post_length)\n",
        "\n",
        "scaler = MinMaxScaler()\n",
        "scaler.fit(dev_post_length)\n",
        "dev_post_length_scaled = scaler.fit_transform(dev_post_length)\n",
        "\n",
        "# Add to features\n",
        "train_textnum['length'] =  train_post_length_scaled\n",
        "dev_textnum['length'] = dev_post_length_scaled\n",
        "\n",
        "# Model on added features\n",
        "rmse_length, accuracy_length, roc_length = log_reg(train_textnum, y_train, dev_textnum, y_dev, C_values=[1,2])\n",
        "\n",
        "print('RMSE: %0.2f' %rmse_length[1])\n",
        "print('ROC_AUC_score: %0.3f' %roc_length[1])"
      ],
      "execution_count": null,
      "outputs": [
        {
          "output_type": "stream",
          "text": [
            "RMSE: 0.24\n",
            "ROC_AUC_score: 0.604\n"
          ],
          "name": "stdout"
        },
        {
          "output_type": "stream",
          "text": [
            "/usr/local/lib/python3.6/dist-packages/ipykernel_launcher.py:15: SettingWithCopyWarning: \n",
            "A value is trying to be set on a copy of a slice from a DataFrame.\n",
            "Try using .loc[row_indexer,col_indexer] = value instead\n",
            "\n",
            "See the caveats in the documentation: https://pandas.pydata.org/pandas-docs/stable/user_guide/indexing.html#returning-a-view-versus-a-copy\n",
            "  from ipykernel import kernelapp as app\n",
            "/usr/local/lib/python3.6/dist-packages/ipykernel_launcher.py:16: SettingWithCopyWarning: \n",
            "A value is trying to be set on a copy of a slice from a DataFrame.\n",
            "Try using .loc[row_indexer,col_indexer] = value instead\n",
            "\n",
            "See the caveats in the documentation: https://pandas.pydata.org/pandas-docs/stable/user_guide/indexing.html#returning-a-view-versus-a-copy\n",
            "  app.launch_new_instance()\n"
          ],
          "name": "stderr"
        }
      ]
    },
    {
      "cell_type": "markdown",
      "metadata": {
        "id": "Wm5d2b65ju_C"
      },
      "source": [
        "### Pictures\n",
        "Next, in the EDA we noticed that some post included 'http' links were to pictures.  Pictures maybe more convincing that words and so test it out as a feature.\n"
      ]
    },
    {
      "cell_type": "code",
      "metadata": {
        "colab": {
          "base_uri": "https://localhost:8080/",
          "height": 137
        },
        "id": "Yz59Cod8kDmW",
        "outputId": "d872310c-9a01-462a-9822-47bb985000de"
      },
      "source": [
        "# Check if jpg is in the post\n",
        "temp_list_train = []\n",
        "for i in train_text['request_text_edit_aware']:\n",
        "  if 'jpg' in i:\n",
        "    temp_list_train.append(True)\n",
        "  else: \n",
        "    temp_list_train.append(False)\n",
        "\n",
        "temp_list_dev = []\n",
        "for i in dev_text['request_text_edit_aware']:\n",
        "  if 'jpg' in i:\n",
        "    temp_list_dev.append(True)\n",
        "  else: \n",
        "    temp_list_dev.append(False)\n",
        "\n",
        "# Check\n",
        "train_text['request_text_edit_aware'][temp_list_train].iloc[0,]"
      ],
      "execution_count": null,
      "outputs": [
        {
          "output_type": "execute_result",
          "data": {
            "application/vnd.google.colaboratory.intrinsic+json": {
              "type": "string"
            },
            "text/plain": [
              "\"Hi all...\\n\\nI've hit one of those lows. I have $1.95 in the bank and I ran out of the spaghetti I was eating once a day a couple days ago. I spent 30 minutes looking around the house for loose change and managed to find enough to get some peanut butter which is remarkably filling and has kept me relatively satisfied since. But it's running out and before I start pawning things off I thought I'd try to look for my own personal Pizza Jesus. Thank you all for the awesomeness that is RAOP.\\n\\n[money](http://imgur.com/LTQk5.jpg)\\n\\n[what I have survived on for two days](http://imgur.com/jn6Eh)\\n\\nNeedless to say I will contribute at my first financial opportunity.\\n\\nedits: spelling. because that's still important.\""
            ]
          },
          "metadata": {
            "tags": []
          },
          "execution_count": 247
        }
      ]
    },
    {
      "cell_type": "markdown",
      "metadata": {
        "id": "nstw0z-_O8To"
      },
      "source": [
        "Adding a boolean for whether a jpg file was present in the text improves the model slightly."
      ]
    },
    {
      "cell_type": "code",
      "metadata": {
        "colab": {
          "base_uri": "https://localhost:8080/"
        },
        "id": "Td8fUNLQmf44",
        "outputId": "68ba6540-9f76-4b97-cd37-a1cb95c30676"
      },
      "source": [
        "# Add the feature\n",
        "train_textnum['jpg'] =  temp_list_train\n",
        "dev_textnum['jpg'] = temp_list_dev\n",
        "\n",
        "# Model on reduced numeric features\n",
        "rmse_jpg, accuracy_jpg, roc_jpg = log_reg(train_textnum, y_train, dev_textnum, y_dev, C_values=[1,2])\n",
        "\n",
        "print('RMSE: %0.2f' %rmse_jpg[1])\n",
        "print('ROC_AUC_score: %0.3f' %roc_jpg[1])"
      ],
      "execution_count": null,
      "outputs": [
        {
          "output_type": "stream",
          "text": [
            "RMSE: 0.24\n",
            "ROC_AUC_score: 0.611\n"
          ],
          "name": "stdout"
        },
        {
          "output_type": "stream",
          "text": [
            "/usr/local/lib/python3.6/dist-packages/ipykernel_launcher.py:2: SettingWithCopyWarning: \n",
            "A value is trying to be set on a copy of a slice from a DataFrame.\n",
            "Try using .loc[row_indexer,col_indexer] = value instead\n",
            "\n",
            "See the caveats in the documentation: https://pandas.pydata.org/pandas-docs/stable/user_guide/indexing.html#returning-a-view-versus-a-copy\n",
            "  \n",
            "/usr/local/lib/python3.6/dist-packages/ipykernel_launcher.py:3: SettingWithCopyWarning: \n",
            "A value is trying to be set on a copy of a slice from a DataFrame.\n",
            "Try using .loc[row_indexer,col_indexer] = value instead\n",
            "\n",
            "See the caveats in the documentation: https://pandas.pydata.org/pandas-docs/stable/user_guide/indexing.html#returning-a-view-versus-a-copy\n",
            "  This is separate from the ipykernel package so we can avoid doing imports until\n"
          ],
          "name": "stderr"
        }
      ]
    },
    {
      "cell_type": "markdown",
      "metadata": {
        "id": "jEZa4UhXsuO3"
      },
      "source": [
        "### Word Groups: Time\n",
        "\n",
        "Next word groups are explored.  From the EDA it was observed references to time, gratitude, and money were common.  Counting the number of time references in a post improved the model performance slightly."
      ]
    },
    {
      "cell_type": "code",
      "metadata": {
        "id": "s54rMG_wstmw"
      },
      "source": [
        "# Check for time words\n",
        "time_list = ['day', 'tonight', 'month', 'time', 'hour', 'next', 'due']\n",
        "\n",
        "temp_list_train = []\n",
        "for i in clean_train_text:\n",
        "  count = 0\n",
        "  for j in time_list:\n",
        "    if j in i:\n",
        "      count += 1\n",
        "  temp_list_train.append(count)\n",
        "\n",
        "temp_list_dev = []\n",
        "for i in clean_dev_text:\n",
        "  count = 0\n",
        "  for j in time_list:\n",
        "    if j in i:\n",
        "      count += 1\n",
        "  temp_list_dev.append(count)"
      ],
      "execution_count": null,
      "outputs": []
    },
    {
      "cell_type": "code",
      "metadata": {
        "colab": {
          "base_uri": "https://localhost:8080/"
        },
        "id": "M-9-Ii26tMLr",
        "outputId": "262afe2d-4895-4a9a-d4d7-5dfc39b10d27"
      },
      "source": [
        "# Scale the values\n",
        "temp_list_train = np.array(temp_list_train).reshape(-1,1)\n",
        "temp_list_dev = np.array(temp_list_dev).reshape(-1,1)\n",
        "\n",
        "scaler = MinMaxScaler()\n",
        "scaler.fit(temp_list_train)\n",
        "train_temp_scaled = scaler.fit_transform(temp_list_train)\n",
        "\n",
        "scaler = MinMaxScaler()\n",
        "scaler.fit(temp_list_dev)\n",
        "dev_temp_scaled = scaler.fit_transform(temp_list_dev)\n",
        "\n",
        "\n",
        "# Add the feature\n",
        "train_textnum['time'] =  train_temp_scaled\n",
        "dev_textnum['time'] = dev_temp_scaled\n",
        "\n",
        "# Model on reduced numeric features\n",
        "rmse_time, accuracy_time, roc_time = log_reg(train_textnum, y_train, dev_textnum, y_dev, C_values=[1,2])\n",
        "\n",
        "print('RMSE: %0.2f' %rmse_time[1])\n",
        "print('ROC_AUC_score: %0.3f' %roc_time[1])"
      ],
      "execution_count": null,
      "outputs": [
        {
          "output_type": "stream",
          "text": [
            "RMSE: 0.24\n",
            "ROC_AUC_score: 0.631\n"
          ],
          "name": "stdout"
        },
        {
          "output_type": "stream",
          "text": [
            "/usr/local/lib/python3.6/dist-packages/ipykernel_launcher.py:15: SettingWithCopyWarning: \n",
            "A value is trying to be set on a copy of a slice from a DataFrame.\n",
            "Try using .loc[row_indexer,col_indexer] = value instead\n",
            "\n",
            "See the caveats in the documentation: https://pandas.pydata.org/pandas-docs/stable/user_guide/indexing.html#returning-a-view-versus-a-copy\n",
            "  from ipykernel import kernelapp as app\n",
            "/usr/local/lib/python3.6/dist-packages/ipykernel_launcher.py:16: SettingWithCopyWarning: \n",
            "A value is trying to be set on a copy of a slice from a DataFrame.\n",
            "Try using .loc[row_indexer,col_indexer] = value instead\n",
            "\n",
            "See the caveats in the documentation: https://pandas.pydata.org/pandas-docs/stable/user_guide/indexing.html#returning-a-view-versus-a-copy\n",
            "  app.launch_new_instance()\n"
          ],
          "name": "stderr"
        }
      ]
    },
    {
      "cell_type": "markdown",
      "metadata": {
        "id": "PuCtW2MmSDlq"
      },
      "source": [
        "### Word Groups: Gratitude\n",
        "\n",
        "Including more gratitude words, however, did not increase model performance much."
      ]
    },
    {
      "cell_type": "code",
      "metadata": {
        "id": "sgiUcyZFtgYd"
      },
      "source": [
        "# Check for gratitude words\n",
        "gratitude_list = ['appreciate', 'thank', 'kind', 'give', 'please', 'love']\n",
        "\n",
        "temp_list_train = []\n",
        "for i in clean_train_text:\n",
        "  count = 0\n",
        "  for j in gratitude_list:\n",
        "    if j in i:\n",
        "      count += 1\n",
        "  temp_list_train.append(count)\n",
        "\n",
        "temp_list_dev = []\n",
        "for i in clean_dev_text:\n",
        "  count = 0\n",
        "  for j in gratitude_list:\n",
        "    if j in i:\n",
        "      count += 1\n",
        "  temp_list_dev.append(count)"
      ],
      "execution_count": null,
      "outputs": []
    },
    {
      "cell_type": "code",
      "metadata": {
        "colab": {
          "base_uri": "https://localhost:8080/"
        },
        "id": "pphJ4oHavCOZ",
        "outputId": "282b6c8f-ae7c-4cdf-cc29-91dd11f658c8"
      },
      "source": [
        "# Scale the values\n",
        "temp_list_train = np.array(temp_list_train).reshape(-1,1)\n",
        "temp_list_dev = np.array(temp_list_dev).reshape(-1,1)\n",
        "\n",
        "scaler = MinMaxScaler()\n",
        "scaler.fit(temp_list_train)\n",
        "train_temp_scaled = scaler.fit_transform(temp_list_train)\n",
        "\n",
        "scaler = MinMaxScaler()\n",
        "scaler.fit(temp_list_dev)\n",
        "dev_temp_scaled = scaler.fit_transform(temp_list_dev)\n",
        "\n",
        "# Add the feature\n",
        "train_textnum['gratitude'] =  train_temp_scaled\n",
        "dev_textnum['gratitude'] = dev_temp_scaled\n",
        "\n",
        "# Model on reduced numeric features\n",
        "rmse_grat, accuracy_grat, roc_grat = log_reg(train_textnum, y_train, dev_textnum, y_dev, C_values=[1,2])\n",
        "\n",
        "print('RMSE: %0.2f' %rmse_grat[1])\n",
        "print('ROC_AUC_score: %0.3f' %roc_grat[1])"
      ],
      "execution_count": null,
      "outputs": [
        {
          "output_type": "stream",
          "text": [
            "RMSE: 0.24\n",
            "ROC_AUC_score: 0.631\n"
          ],
          "name": "stdout"
        },
        {
          "output_type": "stream",
          "text": [
            "/usr/local/lib/python3.6/dist-packages/ipykernel_launcher.py:14: SettingWithCopyWarning: \n",
            "A value is trying to be set on a copy of a slice from a DataFrame.\n",
            "Try using .loc[row_indexer,col_indexer] = value instead\n",
            "\n",
            "See the caveats in the documentation: https://pandas.pydata.org/pandas-docs/stable/user_guide/indexing.html#returning-a-view-versus-a-copy\n",
            "  \n",
            "/usr/local/lib/python3.6/dist-packages/ipykernel_launcher.py:15: SettingWithCopyWarning: \n",
            "A value is trying to be set on a copy of a slice from a DataFrame.\n",
            "Try using .loc[row_indexer,col_indexer] = value instead\n",
            "\n",
            "See the caveats in the documentation: https://pandas.pydata.org/pandas-docs/stable/user_guide/indexing.html#returning-a-view-versus-a-copy\n",
            "  from ipykernel import kernelapp as app\n"
          ],
          "name": "stderr"
        }
      ]
    },
    {
      "cell_type": "markdown",
      "metadata": {
        "id": "QgXyhVhySpKk"
      },
      "source": [
        "### Word Groups: Money\n",
        "\n",
        "Similary counting the number of references to money also did not."
      ]
    },
    {
      "cell_type": "code",
      "metadata": {
        "id": "TH51n0wrSuX4"
      },
      "source": [
        "# Check for money words\n",
        "money_list = ['bill', 'pay', 'broke', 'paycheck', 'rent', 'account']\n",
        "\n",
        "temp_list_train = []\n",
        "for i in clean_train_text:\n",
        "  count = 0\n",
        "  for j in gratitude_list:\n",
        "    if j in i:\n",
        "      count += 1\n",
        "  temp_list_train.append(count)\n",
        "\n",
        "temp_list_dev = []\n",
        "for i in clean_dev_text:\n",
        "  count = 0\n",
        "  for j in gratitude_list:\n",
        "    if j in i:\n",
        "      count += 1\n",
        "  temp_list_dev.append(count)"
      ],
      "execution_count": null,
      "outputs": []
    },
    {
      "cell_type": "code",
      "metadata": {
        "colab": {
          "base_uri": "https://localhost:8080/"
        },
        "id": "QF0v9wf0TAXB",
        "outputId": "eaa06022-82af-46cb-a669-c59257d052f4"
      },
      "source": [
        "# Scale the values\n",
        "temp_list_train = np.array(temp_list_train).reshape(-1,1)\n",
        "temp_list_dev = np.array(temp_list_dev).reshape(-1,1)\n",
        "\n",
        "scaler = MinMaxScaler()\n",
        "scaler.fit(temp_list_train)\n",
        "train_temp_scaled = scaler.fit_transform(temp_list_train)\n",
        "\n",
        "scaler = MinMaxScaler()\n",
        "scaler.fit(temp_list_dev)\n",
        "dev_temp_scaled = scaler.fit_transform(temp_list_dev)\n",
        "\n",
        "# Add the feature\n",
        "train_textnum['money'] =  train_temp_scaled\n",
        "dev_textnum['money'] = dev_temp_scaled\n",
        "\n",
        "# Model on reduced numeric features\n",
        "rmse_money, accuracy_money, roc_money = log_reg(train_textnum, y_train, dev_textnum, y_dev, C_values=[1,2])\n",
        "\n",
        "print('RMSE: %0.2f' %rmse_money[1])\n",
        "print('ROC_AUC_score: %0.3f' %roc_money[1])"
      ],
      "execution_count": null,
      "outputs": [
        {
          "output_type": "stream",
          "text": [
            "RMSE: 0.24\n",
            "ROC_AUC_score: 0.631\n"
          ],
          "name": "stdout"
        }
      ]
    },
    {
      "cell_type": "markdown",
      "metadata": {
        "id": "0DwYUTLeZGHC"
      },
      "source": [
        "### Sentimenent\n",
        "\n",
        "Another way to look at word groups is by looking at their sentiment.  Together words may deliver a positive, negative, or neutral sentitment.  The following uses the opinion lexicon from nltk to determine a post's sentiment.  The results show that including sentiment, with this method, did not improve model performance."
      ]
    },
    {
      "cell_type": "code",
      "metadata": {
        "id": "I0ZAczrgZIt-"
      },
      "source": [
        "# Note: this may take 15-30 minutes to run\n",
        "opinion_train = [opinion_classifier(i) for i in clean_train_text]\n",
        "opinion_dev = [opinion_classifier(i) for i in clean_dev_text]"
      ],
      "execution_count": null,
      "outputs": []
    },
    {
      "cell_type": "code",
      "metadata": {
        "colab": {
          "base_uri": "https://localhost:8080/"
        },
        "id": "dnItUNtwZnk9",
        "outputId": "cebc84dc-38c4-42cc-c4f9-0fb02d986c04"
      },
      "source": [
        "# Add the feature\n",
        "train_textnum['sentiment'] =  opinion_train\n",
        "dev_textnum['sentiment'] = opinion_dev\n",
        "\n",
        "# Model on reduced numeric features\n",
        "rmse_senti, accuracy_senti, roc_senti = log_reg(train_textnum, y_train, dev_textnum, y_dev, C_values=[1,2])\n",
        "\n",
        "print('RMSE: %0.2f' %rmse_senti[1])\n",
        "print('ROC_AUC_score: %0.3f' %roc_senti[1])"
      ],
      "execution_count": null,
      "outputs": [
        {
          "output_type": "stream",
          "text": [
            "RMSE: 0.24\n",
            "ROC_AUC_score: 0.637\n"
          ],
          "name": "stdout"
        }
      ]
    },
    {
      "cell_type": "markdown",
      "metadata": {
        "id": "LpaqeFEFh-Tw"
      },
      "source": [
        "#5.2.3. Baseline model - improved\n",
        "\n",
        "Adding features from the text data improved the ROC_AUC_Score from 58% to 63% suggesting the model is getting better at differentiating the classes.  The accuracy value did not change however, suggesting the model has no improved in predicting positive classes."
      ]
    },
    {
      "cell_type": "code",
      "metadata": {
        "colab": {
          "base_uri": "https://localhost:8080/",
          "height": 297
        },
        "id": "iOud6V8lnOjl",
        "outputId": "8725ad02-ed29-4ce9-aacc-185a9cb75f63"
      },
      "source": [
        "models = ['baseline',\n",
        "          '+reduced', \n",
        "          '+reduced, length', \n",
        "          '+reduced, length, jpg', \n",
        "          '+reduced, length, jpg, time', \n",
        "          '+reduced, length, jpg, time, gratitude',\n",
        "          '+reduced, length, jpg, time, gratitude, money',\n",
        "          '+reduced, length jpg, time, grattitude, money, sentiment']\n",
        "\n",
        "models_rmse = [rmse_base[2], rmse_red[1], rmse_length[1], rmse_jpg[1], rmse_time[1], rmse_grat[1], rmse_money[1], rmse_senti[1]]\n",
        "models_accuracy = [accuracy_base[2], accuracy_red[1], accuracy_length[1], accuracy_jpg[1], accuracy_time[1], accuracy_grat[1], accuracy_money[1], accuracy_senti[1]]\n",
        "models_roc = [roc_base[2], roc_red[1], roc_length[1], roc_jpg[1], roc_time[1], roc_grat[1], roc_money[1], roc_senti[1]]\n",
        "\n",
        "pd.DataFrame({'logistic models': models, \n",
        "              'rmse': models_rmse, \n",
        "              'accuracy': models_accuracy, \n",
        "              'roc': models_roc})"
      ],
      "execution_count": null,
      "outputs": [
        {
          "output_type": "execute_result",
          "data": {
            "text/html": [
              "<div>\n",
              "<style scoped>\n",
              "    .dataframe tbody tr th:only-of-type {\n",
              "        vertical-align: middle;\n",
              "    }\n",
              "\n",
              "    .dataframe tbody tr th {\n",
              "        vertical-align: top;\n",
              "    }\n",
              "\n",
              "    .dataframe thead th {\n",
              "        text-align: right;\n",
              "    }\n",
              "</style>\n",
              "<table border=\"1\" class=\"dataframe\">\n",
              "  <thead>\n",
              "    <tr style=\"text-align: right;\">\n",
              "      <th></th>\n",
              "      <th>logistic models</th>\n",
              "      <th>rmse</th>\n",
              "      <th>accuracy</th>\n",
              "      <th>roc</th>\n",
              "    </tr>\n",
              "  </thead>\n",
              "  <tbody>\n",
              "    <tr>\n",
              "      <th>0</th>\n",
              "      <td>baseline</td>\n",
              "      <td>0.240</td>\n",
              "      <td>0.766</td>\n",
              "      <td>0.582</td>\n",
              "    </tr>\n",
              "    <tr>\n",
              "      <th>1</th>\n",
              "      <td>+reduced</td>\n",
              "      <td>0.241</td>\n",
              "      <td>0.766</td>\n",
              "      <td>0.590</td>\n",
              "    </tr>\n",
              "    <tr>\n",
              "      <th>2</th>\n",
              "      <td>+reduced, length</td>\n",
              "      <td>0.242</td>\n",
              "      <td>0.760</td>\n",
              "      <td>0.604</td>\n",
              "    </tr>\n",
              "    <tr>\n",
              "      <th>3</th>\n",
              "      <td>+reduced, length, jpg</td>\n",
              "      <td>0.243</td>\n",
              "      <td>0.759</td>\n",
              "      <td>0.611</td>\n",
              "    </tr>\n",
              "    <tr>\n",
              "      <th>4</th>\n",
              "      <td>+reduced, length, jpg, time</td>\n",
              "      <td>0.242</td>\n",
              "      <td>0.762</td>\n",
              "      <td>0.631</td>\n",
              "    </tr>\n",
              "    <tr>\n",
              "      <th>5</th>\n",
              "      <td>+reduced, length, jpg, time, gratitude</td>\n",
              "      <td>0.242</td>\n",
              "      <td>0.762</td>\n",
              "      <td>0.631</td>\n",
              "    </tr>\n",
              "    <tr>\n",
              "      <th>6</th>\n",
              "      <td>+reduced, length, jpg, time, gratitude, money</td>\n",
              "      <td>0.242</td>\n",
              "      <td>0.762</td>\n",
              "      <td>0.631</td>\n",
              "    </tr>\n",
              "    <tr>\n",
              "      <th>7</th>\n",
              "      <td>+reduced, length jpg, time, grattitude, money,...</td>\n",
              "      <td>0.243</td>\n",
              "      <td>0.762</td>\n",
              "      <td>0.637</td>\n",
              "    </tr>\n",
              "  </tbody>\n",
              "</table>\n",
              "</div>"
            ],
            "text/plain": [
              "                                     logistic models   rmse  accuracy    roc\n",
              "0                                           baseline  0.240     0.766  0.582\n",
              "1                                           +reduced  0.241     0.766  0.590\n",
              "2                                   +reduced, length  0.242     0.760  0.604\n",
              "3                              +reduced, length, jpg  0.243     0.759  0.611\n",
              "4                        +reduced, length, jpg, time  0.242     0.762  0.631\n",
              "5             +reduced, length, jpg, time, gratitude  0.242     0.762  0.631\n",
              "6      +reduced, length, jpg, time, gratitude, money  0.242     0.762  0.631\n",
              "7  +reduced, length jpg, time, grattitude, money,...  0.243     0.762  0.637"
            ]
          },
          "metadata": {
            "tags": []
          },
          "execution_count": 256
        }
      ]
    },
    {
      "cell_type": "markdown",
      "metadata": {
        "id": "lfAPZKKBknZZ"
      },
      "source": [
        "All the features were scaled to be between 0 and 1 and thus we can compare the coefficients with one another.  "
      ]
    },
    {
      "cell_type": "code",
      "metadata": {
        "colab": {
          "base_uri": "https://localhost:8080/",
          "height": 359
        },
        "id": "j5qjbEuth5E1",
        "outputId": "fc5f0a74-b804-4d79-b7de-c598ddf7d0c7"
      },
      "source": [
        "# Print coefficients - units are different\n",
        "logit_pizza = LogisticRegression(penalty='l2', C=1, max_iter=1000, solver='lbfgs').fit(train_textnum, y_train)\n",
        "y_dev_predict = logit_pizza.predict(dev_textnum)\n",
        "\n",
        "coef_textnum = pd.DataFrame({'features': train_textnum.columns, 'coef': logit_pizza.coef_[0]})\n",
        "coef_textnum = coef_textnum.sort_values(by='coef', ascending=False)\n",
        "coef_textnum"
      ],
      "execution_count": null,
      "outputs": [
        {
          "output_type": "execute_result",
          "data": {
            "text/html": [
              "<div>\n",
              "<style scoped>\n",
              "    .dataframe tbody tr th:only-of-type {\n",
              "        vertical-align: middle;\n",
              "    }\n",
              "\n",
              "    .dataframe tbody tr th {\n",
              "        vertical-align: top;\n",
              "    }\n",
              "\n",
              "    .dataframe thead th {\n",
              "        text-align: right;\n",
              "    }\n",
              "</style>\n",
              "<table border=\"1\" class=\"dataframe\">\n",
              "  <thead>\n",
              "    <tr style=\"text-align: right;\">\n",
              "      <th></th>\n",
              "      <th>features</th>\n",
              "      <th>coef</th>\n",
              "    </tr>\n",
              "  </thead>\n",
              "  <tbody>\n",
              "    <tr>\n",
              "      <th>0</th>\n",
              "      <td>requester_number_of_posts_on_raop_at_request</td>\n",
              "      <td>2.674459</td>\n",
              "    </tr>\n",
              "    <tr>\n",
              "      <th>1</th>\n",
              "      <td>requester_number_of_comments_in_raop_at_request</td>\n",
              "      <td>1.915991</td>\n",
              "    </tr>\n",
              "    <tr>\n",
              "      <th>4</th>\n",
              "      <td>length</td>\n",
              "      <td>1.408561</td>\n",
              "    </tr>\n",
              "    <tr>\n",
              "      <th>6</th>\n",
              "      <td>time</td>\n",
              "      <td>1.212539</td>\n",
              "    </tr>\n",
              "    <tr>\n",
              "      <th>2</th>\n",
              "      <td>requester_days_since_first_post_on_raop_at_req...</td>\n",
              "      <td>1.100003</td>\n",
              "    </tr>\n",
              "    <tr>\n",
              "      <th>5</th>\n",
              "      <td>jpg</td>\n",
              "      <td>1.006056</td>\n",
              "    </tr>\n",
              "    <tr>\n",
              "      <th>3</th>\n",
              "      <td>requester_account_age_in_days_at_request</td>\n",
              "      <td>0.734841</td>\n",
              "    </tr>\n",
              "    <tr>\n",
              "      <th>7</th>\n",
              "      <td>gratitude</td>\n",
              "      <td>0.160612</td>\n",
              "    </tr>\n",
              "    <tr>\n",
              "      <th>8</th>\n",
              "      <td>money</td>\n",
              "      <td>0.160612</td>\n",
              "    </tr>\n",
              "    <tr>\n",
              "      <th>9</th>\n",
              "      <td>sentiment</td>\n",
              "      <td>0.045959</td>\n",
              "    </tr>\n",
              "  </tbody>\n",
              "</table>\n",
              "</div>"
            ],
            "text/plain": [
              "                                            features      coef\n",
              "0       requester_number_of_posts_on_raop_at_request  2.674459\n",
              "1    requester_number_of_comments_in_raop_at_request  1.915991\n",
              "4                                             length  1.408561\n",
              "6                                               time  1.212539\n",
              "2  requester_days_since_first_post_on_raop_at_req...  1.100003\n",
              "5                                                jpg  1.006056\n",
              "3           requester_account_age_in_days_at_request  0.734841\n",
              "7                                          gratitude  0.160612\n",
              "8                                              money  0.160612\n",
              "9                                          sentiment  0.045959"
            ]
          },
          "metadata": {
            "tags": []
          },
          "execution_count": 90
        }
      ]
    },
    {
      "cell_type": "markdown",
      "metadata": {
        "id": "IwW_7AtoglpA"
      },
      "source": [
        "# 5.2.3 Error Analysis\n",
        "\n",
        "In this section, review challenges with the model."
      ]
    },
    {
      "cell_type": "markdown",
      "metadata": {
        "id": "i_LuRgKCiuh6"
      },
      "source": [
        "From the confusion matrix, we can see that the model is both low in precision and recall.  Specifically in recall, the model is predicting high on false negatives or low true positives."
      ]
    },
    {
      "cell_type": "code",
      "metadata": {
        "colab": {
          "base_uri": "https://localhost:8080/"
        },
        "id": "pnGwV0r1iSFN",
        "outputId": "11f7dd49-932c-4300-a711-e3b53d75e666"
      },
      "source": [
        "# Confusion Matrix\n",
        "# note true positive (upper-left corner) is the number of zeros the model got correctly\n",
        "print(confusion_matrix(y_dev, y_dev_predict))\n",
        "print(\"precision: %0.3f\" %metrics.precision_score(y_dev, y_dev_predict))\n",
        "print(\"recall: %0.3f\" %metrics.recall_score(y_dev, y_dev_predict))"
      ],
      "execution_count": null,
      "outputs": [
        {
          "output_type": "stream",
          "text": [
            "[[601  15]\n",
            " [178  14]]\n",
            "precision: 0.483\n",
            "recall: 0.073\n"
          ],
          "name": "stdout"
        }
      ]
    },
    {
      "cell_type": "markdown",
      "metadata": {
        "id": "LCdoeap2Ugro"
      },
      "source": [
        "Looking at metrics plots again, the model is not overfitting.  The RMSE of the train set is low while the accuracy and ROC_AUC_scores are high.  "
      ]
    },
    {
      "cell_type": "code",
      "metadata": {
        "colab": {
          "base_uri": "https://localhost:8080/",
          "height": 261
        },
        "id": "xPikMqzmirqK",
        "outputId": "e60935a8-efcd-453e-d55e-517e6da307ea"
      },
      "source": [
        "# Full logistic model \n",
        "C_values = [0.1, 1, 2, 5]\n",
        "rmse_full, accuracy_full, roc_full = log_reg(train_textnum, y_train, dev_textnum, y_dev, C_values=C_values)\n",
        "\n",
        "# Plot results\n",
        "fig, (ax1, ax2, ax3) = plt.subplots(nrows=1, ncols=3, figsize=(20,4))\n",
        "\n",
        "# Show both accuracy and ROC_AUC_score\n",
        "ax1.plot(C_values, rmse_full, label='RMSE')\n",
        "ax2.plot(C_values, accuracy_full, label='Accuracy')\n",
        "ax3.plot(C_values, roc_full, label='ROC_AUC_Score')\n",
        "\n",
        "ax1.set_xlabel('Inverse Regularization Term C')\n",
        "ax1.set_ylabel('RMSE')\n",
        "\n",
        "ax2.set_xlabel('Inverse Regularization Term C')\n",
        "ax2.set_ylabel('Accuracy')\n",
        "\n",
        "ax3.set_xlabel('Inverse Regularization Term C')\n",
        "ax3.set_ylabel('ROC_AUC_Score')\n"
      ],
      "execution_count": null,
      "outputs": [
        {
          "output_type": "execute_result",
          "data": {
            "text/plain": [
              "Text(0, 0.5, 'ROC_AUC_Score')"
            ]
          },
          "metadata": {
            "tags": []
          },
          "execution_count": 258
        },
        {
          "output_type": "display_data",
          "data": {
            "image/png": "[encoded data removed]",
            "text/plain": [
              "<Figure size 1440x288 with 3 Axes>"
            ]
          },
          "metadata": {
            "tags": [],
            "needs_background": "light"
          }
        }
      ]
    },
    {
      "cell_type": "markdown",
      "metadata": {
        "id": "X8-P20BYjtTr"
      },
      "source": [
        "The results above suggest additional features are needed given the model is not overfitting and requires more information."
      ]
    },
    {
      "cell_type": "markdown",
      "metadata": {
        "id": "n2A5Ii1sdnWc"
      },
      "source": [
        "# 6.1. Summary - Logistic Model\n",
        "\n",
        "Both metadata and text data was used to build a logistic model that could predict whether a request would receive pizza.  The maximum ROC_AUC_score achieved with the model on the dev set was 63%.  Exploring both metaata and text data suggest some features impact the liklihood of receiving pizza more than others.  Specially: \n",
        "\n",
        "* being an active member in ROAP\n",
        "* include a picture with the post\n",
        "* include some reference to time\n",
        "* have a lengthy post\n",
        "\n",
        "To improve the model, we would need to add more complexity into the model.  A possible next step is to improve the word clusters."
      ]
    },
    {
      "cell_type": "markdown",
      "metadata": {
        "id": "nUezyv6lpFMh"
      },
      "source": [
        "# 7.1. Logistic Model Output\n"
      ]
    },
    {
      "cell_type": "code",
      "metadata": {
        "colab": {
          "base_uri": "https://localhost:8080/"
        },
        "id": "swNLWHgMnjxD",
        "outputId": "a784fa89-d8a6-4ccd-a90b-e6bae9cb19eb"
      },
      "source": [
        "# train_features excludes features in train that are not in test and \n",
        "# model excludes sentiment analysis to reduce operating time\n",
        "# model includes reduced numeric features, length, pictures. time\n",
        "# give_username_if_known and requester_user_flair\n",
        "X_train, X_dev, y_train, labels_dev = train_test_split(train_features, labels, test_size=0.2, random_state=1)\n",
        "\n",
        "log_reg_to_ensemble(X_train, y_train, X_dev, C_value=1)"
      ],
      "execution_count": null,
      "outputs": [
        {
          "output_type": "execute_result",
          "data": {
            "text/plain": [
              "array([0, 0, 0, 0, 0, 0, 0, 0, 0, 0, 1, 0, 0, 0, 0, 0, 0, 0, 0, 0, 0, 0,\n",
              "       0, 0, 0, 0, 0, 0, 0, 0, 0, 0, 0, 0, 0, 0, 0, 1, 0, 0, 0, 0, 0, 0,\n",
              "       0, 0, 0, 0, 0, 0, 0, 0, 0, 0, 0, 0, 0, 0, 0, 0, 1, 0, 0, 0, 0, 0,\n",
              "       0, 0, 0, 0, 0, 0, 0, 0, 0, 0, 0, 0, 0, 0, 0, 0, 0, 0, 0, 0, 1, 0,\n",
              "       0, 0, 0, 0, 0, 0, 0, 0, 0, 0, 0, 0, 1, 0, 0, 0, 0, 0, 0, 0, 0, 0,\n",
              "       0, 0, 0, 0, 0, 0, 0, 0, 0, 0, 0, 0, 0, 0, 0, 0, 0, 0, 1, 0, 0, 0,\n",
              "       0, 0, 0, 0, 0, 0, 0, 0, 0, 0, 0, 0, 0, 0, 0, 0, 0, 0, 0, 0, 0, 0,\n",
              "       0, 0, 0, 0, 0, 0, 0, 0, 0, 0, 0, 0, 0, 0, 0, 0, 0, 0, 0, 0, 0, 0,\n",
              "       0, 0, 0, 0, 0, 0, 0, 0, 0, 0, 0, 0, 0, 0, 0, 0, 0, 0, 0, 0, 0, 0,\n",
              "       0, 0, 0, 0, 0, 0, 0, 0, 0, 0, 0, 0, 0, 0, 0, 0, 0, 0, 0, 0, 0, 0,\n",
              "       0, 0, 1, 0, 0, 0, 0, 0, 0, 0, 0, 0, 0, 0, 0, 0, 0, 0, 0, 0, 0, 0,\n",
              "       0, 0, 0, 0, 0, 0, 0, 0, 0, 0, 0, 0, 0, 0, 0, 0, 0, 0, 0, 0, 0, 0,\n",
              "       0, 0, 0, 0, 0, 0, 0, 0, 0, 0, 0, 0, 0, 0, 0, 0, 0, 0, 0, 0, 0, 0,\n",
              "       0, 0, 0, 0, 0, 0, 1, 0, 0, 0, 1, 0, 0, 0, 0, 0, 0, 0, 0, 0, 0, 0,\n",
              "       0, 0, 0, 0, 0, 0, 1, 0, 0, 0, 0, 0, 0, 0, 0, 0, 0, 0, 0, 0, 0, 0,\n",
              "       0, 0, 0, 0, 1, 0, 0, 0, 0, 0, 0, 0, 0, 0, 0, 0, 0, 0, 0, 0, 0, 0,\n",
              "       0, 0, 0, 0, 0, 0, 0, 0, 0, 0, 0, 0, 0, 0, 0, 0, 0, 0, 0, 0, 0, 0,\n",
              "       0, 0, 0, 0, 0, 0, 0, 0, 0, 0, 0, 0, 0, 0, 1, 0, 0, 0, 0, 0, 0, 0,\n",
              "       0, 0, 0, 0, 0, 0, 0, 0, 0, 0, 0, 0, 0, 0, 0, 0, 0, 0, 0, 0, 0, 0,\n",
              "       0, 0, 0, 0, 0, 0, 0, 0, 1, 0, 0, 0, 0, 0, 0, 0, 0, 0, 0, 0, 0, 0,\n",
              "       0, 0, 0, 0, 0, 0, 0, 0, 1, 0, 0, 0, 0, 0, 0, 0, 0, 0, 0, 0, 0, 0,\n",
              "       0, 0, 0, 0, 0, 0, 0, 0, 0, 0, 0, 0, 0, 0, 0, 0, 0, 0, 0, 0, 0, 0,\n",
              "       0, 0, 0, 1, 0, 0, 0, 0, 0, 0, 0, 0, 0, 0, 0, 0, 0, 0, 0, 0, 0, 0,\n",
              "       0, 0, 0, 0, 0, 0, 1, 0, 0, 0, 0, 0, 0, 0, 0, 0, 0, 0, 0, 0, 0, 0,\n",
              "       0, 0, 1, 0, 1, 0, 0, 0, 0, 0, 0, 0, 0, 0, 0, 0, 0, 0, 0, 0, 0, 0,\n",
              "       0, 0, 0, 0, 0, 0, 0, 0, 0, 0, 0, 0, 0, 0, 0, 0, 0, 0, 0, 0, 0, 0,\n",
              "       0, 0, 0, 0, 0, 0, 0, 0, 0, 0, 0, 0, 0, 0, 0, 0, 0, 0, 0, 0, 0, 0,\n",
              "       0, 0, 0, 0, 0, 0, 0, 0, 0, 0, 0, 0, 0, 0, 0, 1, 0, 0, 0, 0, 0, 0,\n",
              "       0, 0, 0, 0, 0, 0, 0, 0, 0, 0, 0, 0, 0, 0, 0, 0, 0, 0, 0, 0, 0, 0,\n",
              "       0, 0, 0, 0, 0, 0, 0, 0, 0, 0, 0, 0, 0, 0, 0, 1, 0, 0, 0, 0, 0, 0,\n",
              "       0, 0, 0, 1, 0, 0, 0, 0, 0, 0, 0, 0, 0, 0, 0, 0, 0, 0, 0, 0, 0, 0,\n",
              "       0, 0, 0, 0, 0, 0, 0, 0, 0, 0, 0, 0, 0, 0, 0, 0, 1, 1, 0, 0, 0, 0,\n",
              "       0, 0, 0, 0, 0, 0, 0, 0, 0, 0, 0, 0, 0, 0, 0, 0, 0, 0, 0, 0, 0, 0,\n",
              "       0, 0, 0, 0, 0, 0, 0, 0, 0, 0, 0, 0, 0, 0, 0, 0, 0, 0, 0, 1, 0, 0,\n",
              "       0, 1, 1, 0, 0, 0, 1, 0, 0, 0, 0, 0, 0, 0, 0, 0, 0, 0, 0, 0, 0, 0,\n",
              "       0, 0, 0, 0, 0, 0, 0, 0, 0, 0, 0, 0, 0, 0, 0, 0, 0, 0, 1, 0, 0, 0,\n",
              "       0, 0, 0, 0, 0, 0, 0, 0, 0, 0, 0, 0, 0, 0, 0, 0])"
            ]
          },
          "metadata": {
            "tags": []
          },
          "execution_count": 269
        }
      ]
    }
  ]
}